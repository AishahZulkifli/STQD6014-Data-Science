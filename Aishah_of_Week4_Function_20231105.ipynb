{
  "nbformat": 4,
  "nbformat_minor": 0,
  "metadata": {
    "colab": {
      "provenance": [],
      "include_colab_link": true
    },
    "kernelspec": {
      "name": "python3",
      "display_name": "Python 3"
    },
    "language_info": {
      "name": "python"
    }
  },
  "cells": [
    {
      "cell_type": "markdown",
      "metadata": {
        "id": "view-in-github",
        "colab_type": "text"
      },
      "source": [
        "<a href=\"https://colab.research.google.com/github/AishahZulkifli/STQD6014-Data-Science/blob/main/Aishah_of_Week4_Function_20231105.ipynb\" target=\"_parent\"><img src=\"https://colab.research.google.com/assets/colab-badge.svg\" alt=\"Open In Colab\"/></a>"
      ]
    },
    {
      "cell_type": "markdown",
      "source": [
        "# **Week 04: Function**"
      ],
      "metadata": {
        "id": "xDWtjtCRv5nM"
      }
    },
    {
      "cell_type": "markdown",
      "source": [
        "# **Exercise 1**: Define a function, as well as adding in ***docstring***"
      ],
      "metadata": {
        "id": "IlALFMKBxFxq"
      }
    },
    {
      "cell_type": "code",
      "execution_count": 1,
      "metadata": {
        "id": "IkiFITWFAN5g"
      },
      "outputs": [],
      "source": [
        "# Define a greet_user function\n",
        "# Use the docstring in triple quotes to explain what your function would like to do\n",
        "# Always remember to put this docstring\n",
        "def greet_user():\n",
        "    \"\"\"Display a simple greeting\"\"\"\n",
        "    print(\"Hello!\")"
      ]
    },
    {
      "cell_type": "code",
      "source": [
        "# Call the greet_user function\n",
        "greet_user()"
      ],
      "metadata": {
        "colab": {
          "base_uri": "https://localhost:8080/"
        },
        "id": "Ck9cmWJQ8nI9",
        "outputId": "dc164abf-43b6-45d6-c23b-14ce5e2767ad"
      },
      "execution_count": 2,
      "outputs": [
        {
          "output_type": "stream",
          "name": "stdout",
          "text": [
            "Hello!\n"
          ]
        }
      ]
    },
    {
      "cell_type": "code",
      "source": [
        "#Looking for documentation about greet_user() function\n",
        "help(greet_user)"
      ],
      "metadata": {
        "colab": {
          "base_uri": "https://localhost:8080/"
        },
        "id": "9iW4nVfzQoOa",
        "outputId": "ae720184-93de-4d0a-91c3-c0181cb8584d"
      },
      "execution_count": 4,
      "outputs": [
        {
          "output_type": "stream",
          "name": "stdout",
          "text": [
            "Help on function greet_user in module __main__:\n",
            "\n",
            "greet_user()\n",
            "    Display a simple greeting\n",
            "\n"
          ]
        }
      ]
    },
    {
      "cell_type": "markdown",
      "source": [
        "# **Docstring**\n",
        "A Python docstring is a string used to document a Python module, class, function or method, so programmers can understand what it does without having to read the details of the implementation. Please visit this link for more information about docstring: https://pandas.pydata.org/docs/development/contributing_docstring.html"
      ],
      "metadata": {
        "id": "PRMGVvQhyDzY"
      }
    },
    {
      "cell_type": "markdown",
      "source": [
        "# **Exercise 2**: Passing *parameter* and *arguments* to a Function"
      ],
      "metadata": {
        "id": "cfszVmi5xi80"
      }
    },
    {
      "cell_type": "code",
      "source": [
        "# Define a greet_user function\n",
        "# Add parameter to the greet_user function\n",
        "\n",
        "def greet_user(username,hobby): # <- username here is parameter\n",
        "    \"\"\"Display a simple greeting.\"\"\"\n",
        "    print(\"Hello \" + username.title() + \"!\")\n",
        "\n",
        "# Provide an argument to the greet_user function\n",
        "greet_user('Afiqah') #<- Afiqah here is an argument"
      ],
      "metadata": {
        "colab": {
          "base_uri": "https://localhost:8080/"
        },
        "id": "UP1WYL-vB5nr",
        "outputId": "2cfdc170-4612-4a68-ddd7-9d3c55d36d35"
      },
      "execution_count": 5,
      "outputs": [
        {
          "output_type": "stream",
          "name": "stdout",
          "text": [
            "Hello Afiqah!\n"
          ]
        }
      ]
    },
    {
      "cell_type": "markdown",
      "source": [
        "# **Exercise 3**: Positional Arguments"
      ],
      "metadata": {
        "id": "WGpVqCD4zy0i"
      }
    },
    {
      "cell_type": "code",
      "source": [
        "# Define a describe_pet function\n",
        "def describe_pet(animal_type, pet_name):\n",
        "    \"\"\"Display information about a pet.\"\"\"\n",
        "    print(\"I have a \" + animal_type + \",\")\n",
        "    print(\"My \" + animal_type + \"'s name is \" + pet_name.title() + \".\\n\")"
      ],
      "metadata": {
        "id": "-IRdYt6QFcCx"
      },
      "execution_count": 9,
      "outputs": []
    },
    {
      "cell_type": "code",
      "source": [
        "# Test the describe_pet function\n",
        "# The order of the positional arguments matters\n",
        "describe_pet(\"thompson\", \"goldfish\") #<- order of the positional argument is important\n"
      ],
      "metadata": {
        "colab": {
          "base_uri": "https://localhost:8080/"
        },
        "id": "PEXMbSAN-iBU",
        "outputId": "c9e71067-b642-4b9d-cb4c-415e9b88ba67"
      },
      "execution_count": 10,
      "outputs": [
        {
          "output_type": "stream",
          "name": "stdout",
          "text": [
            "I have a thompson,\n",
            "My thompson's name is Goldfish.\n",
            "\n"
          ]
        }
      ]
    },
    {
      "cell_type": "code",
      "source": [
        "#To solve the above error\n",
        "describe_pet(\"cat\", \"luna\")"
      ],
      "metadata": {
        "colab": {
          "base_uri": "https://localhost:8080/"
        },
        "id": "Kwy-lQr-TJkt",
        "outputId": "cee38f5b-3317-40b1-e21c-4b4e7af9a1db"
      },
      "execution_count": 11,
      "outputs": [
        {
          "output_type": "stream",
          "name": "stdout",
          "text": [
            "I have a cat,\n",
            "My cat's name is Luna.\n",
            "\n"
          ]
        }
      ]
    },
    {
      "cell_type": "code",
      "source": [
        "# Getting help on the describe_pet function\n",
        "help(describe_pet)"
      ],
      "metadata": {
        "colab": {
          "base_uri": "https://localhost:8080/"
        },
        "id": "oxhFylyf-8eU",
        "outputId": "a21a3fe9-9320-481d-e3cd-e4b5c4850994"
      },
      "execution_count": null,
      "outputs": [
        {
          "output_type": "stream",
          "name": "stdout",
          "text": [
            "Help on function describe_pet in module __main__:\n",
            "\n",
            "describe_pet(animal_type, pet_name)\n",
            "    Display information about a pet.\n",
            "\n"
          ]
        }
      ]
    },
    {
      "cell_type": "markdown",
      "source": [
        "# **Exercise 4**: Keyword arguments"
      ],
      "metadata": {
        "id": "ZViIdqbl0605"
      }
    },
    {
      "cell_type": "code",
      "source": [
        "# Define the describe_pet function\n",
        "def describe_pet(animal_type, pet_name):\n",
        "    \"\"\"Display information about a pet.\"\"\"\n",
        "    print(\"I have a \" + animal_type + \",\")\n",
        "    print(\"My \" + animal_type + \"'s name is \" + pet_name.title() + \".\\n\")"
      ],
      "metadata": {
        "id": "XVdLsYeJH2qR"
      },
      "execution_count": 12,
      "outputs": []
    },
    {
      "cell_type": "code",
      "source": [
        "# Define the argument explicitly\n",
        "# In this case, the order of the argument does not matter\n",
        "describe_pet(pet_name = \"harry\",animal_type = \"hamster\")"
      ],
      "metadata": {
        "id": "mvGOJlm4_thO",
        "colab": {
          "base_uri": "https://localhost:8080/"
        },
        "outputId": "7696b656-1cdc-49d6-80ef-3c6108bebb2e"
      },
      "execution_count": 14,
      "outputs": [
        {
          "output_type": "stream",
          "name": "stdout",
          "text": [
            "I have a hamster,\n",
            "My hamster's name is Harry.\n",
            "\n"
          ]
        }
      ]
    },
    {
      "cell_type": "markdown",
      "source": [
        "# **Exercise 5**: Default values"
      ],
      "metadata": {
        "id": "SFOVF2k25L-o"
      }
    },
    {
      "cell_type": "code",
      "source": [
        "# Adding default value for parameter in a function\n",
        "# Parameter with a default value needs to be listed after all the parameters that don’t have default values\n",
        "def describe_pet( pet_name, animal_type=\"lion\"):\n",
        "    \"\"\"Display information about a pet.\"\"\"\n",
        "    print(\"I have a \" + animal_type + \",\")\n",
        "    print(\"My \" + animal_type + \"'s name is \" + pet_name.title() + \".\\n\")"
      ],
      "metadata": {
        "id": "BNvwMSVwIlI4"
      },
      "execution_count": 15,
      "outputs": []
    },
    {
      "cell_type": "code",
      "source": [
        "# Order of the positional argument matter: 1\n",
        "describe_pet(pet_name = 'simba')"
      ],
      "metadata": {
        "colab": {
          "base_uri": "https://localhost:8080/"
        },
        "id": "PCtQ7DW7BJjU",
        "outputId": "5e2b067f-7644-4ae2-f494-e27be5bf2f9e"
      },
      "execution_count": 16,
      "outputs": [
        {
          "output_type": "stream",
          "name": "stdout",
          "text": [
            "I have a lion,\n",
            "My lion's name is Simba.\n",
            "\n"
          ]
        }
      ]
    },
    {
      "cell_type": "code",
      "source": [
        "# Order of the positional argument matter: 2\n",
        "describe_pet('goldie')"
      ],
      "metadata": {
        "colab": {
          "base_uri": "https://localhost:8080/"
        },
        "id": "zKjwTqT2I10S",
        "outputId": "1551ed3f-b69a-4c2c-838d-817a24e2a7ec"
      },
      "execution_count": 17,
      "outputs": [
        {
          "output_type": "stream",
          "name": "stdout",
          "text": [
            "I have a lion,\n",
            "My lion's name is Goldie.\n",
            "\n"
          ]
        }
      ]
    },
    {
      "cell_type": "code",
      "source": [
        "# Solve the above error\n",
        "describe_pet('goldie', 'gold fish')"
      ],
      "metadata": {
        "colab": {
          "base_uri": "https://localhost:8080/"
        },
        "id": "EzsMhimIVELh",
        "outputId": "d202f3b2-ca3b-45f4-f742-277b79428e83"
      },
      "execution_count": 18,
      "outputs": [
        {
          "output_type": "stream",
          "name": "stdout",
          "text": [
            "I have a gold fish,\n",
            "My gold fish's name is Goldie.\n",
            "\n"
          ]
        }
      ]
    },
    {
      "cell_type": "code",
      "source": [
        "# Another example\n",
        "# Provide argument value in the correct order\n",
        "describe_pet('cat', 'Coco')"
      ],
      "metadata": {
        "colab": {
          "base_uri": "https://localhost:8080/"
        },
        "id": "cM9TMx0WKe3L",
        "outputId": "dc4ac9bf-2281-428b-f912-da5fe54d3047"
      },
      "execution_count": 19,
      "outputs": [
        {
          "output_type": "stream",
          "name": "stdout",
          "text": [
            "I have a Coco,\n",
            "My Coco's name is Cat.\n",
            "\n"
          ]
        }
      ]
    },
    {
      "cell_type": "markdown",
      "source": [
        "# **Exercise 6**: Provide a variable where the *return value* can be stored."
      ],
      "metadata": {
        "id": "9Qv0uwI18l_K"
      }
    },
    {
      "cell_type": "code",
      "source": [
        "# Define a function named get_formatted_name\n",
        "# This function will return a value\n",
        "def get_formatted_name(first_name, last_name):\n",
        "    \"\"\"Return a full name, neatly formatted\"\"\"\n",
        "    full_name = first_name + ' ' + last_name #full_name here is the variable to store the names of the users\n",
        "    return full_name.title()"
      ],
      "metadata": {
        "id": "fjWqvKIJLkit"
      },
      "execution_count": 23,
      "outputs": []
    },
    {
      "cell_type": "code",
      "source": [
        "# Test the get_formatted_name function\n",
        "# Provide a variable for the returned full name\n",
        "musician = get_formatted_name(\"aishah\", \"zulkifli\")\n",
        "print(musician)"
      ],
      "metadata": {
        "id": "IapBx7AgCHe8",
        "colab": {
          "base_uri": "https://localhost:8080/"
        },
        "outputId": "c561fe37-a013-4dc4-9be2-c542d3f6348c"
      },
      "execution_count": 24,
      "outputs": [
        {
          "output_type": "stream",
          "name": "stdout",
          "text": [
            "Aishah Zulkifli\n"
          ]
        }
      ]
    },
    {
      "cell_type": "markdown",
      "source": [
        "# **Exercise 7**: Making an argument optional"
      ],
      "metadata": {
        "id": "Z6mRZXQH9azm"
      }
    },
    {
      "cell_type": "code",
      "source": [
        "# Default value always goes last!\n",
        "# Use if-else statement\n",
        "def get_formatted_name(first_name, last_name, middle_name=''):\n",
        "    \"\"\"Return a full name, neatly formatted\"\"\";\n",
        "    if middle_name:\n",
        "        full_name = first_name + ' ' + middle_name + ' ' + last_name\n",
        "    else:\n",
        "        full_name = first_name + ' ' + last_name\n",
        "    return full_name.title()\n"
      ],
      "metadata": {
        "id": "Q8AyJMlZM5MA"
      },
      "execution_count": 25,
      "outputs": []
    },
    {
      "cell_type": "code",
      "source": [
        "# Function call 1\n",
        "musician = get_formatted_name(\"aishah\", \"zulkifli\")\n",
        "print(musician)"
      ],
      "metadata": {
        "colab": {
          "base_uri": "https://localhost:8080/"
        },
        "id": "QMS7Cp88Dqcz",
        "outputId": "a85a343a-4a48-4f6d-fd32-555ddfacdd2d"
      },
      "execution_count": 26,
      "outputs": [
        {
          "output_type": "stream",
          "name": "stdout",
          "text": [
            "Aishah Zulkifli\n"
          ]
        }
      ]
    },
    {
      "cell_type": "code",
      "source": [
        "# Function call 2\n",
        "musician = get_formatted_name(\"aishah\", \"zulkifli\", \"binti\")\n",
        "print(musician)"
      ],
      "metadata": {
        "colab": {
          "base_uri": "https://localhost:8080/"
        },
        "id": "hVnocPLiKF6H",
        "outputId": "0986cf75-de16-4ddd-fc6d-7a61789434e5"
      },
      "execution_count": 27,
      "outputs": [
        {
          "output_type": "stream",
          "name": "stdout",
          "text": [
            "Aishah Binti Zulkifli\n"
          ]
        }
      ]
    },
    {
      "cell_type": "markdown",
      "source": [
        "# **Exercise 8**: Returning a dictionary"
      ],
      "metadata": {
        "id": "lLlDqDvrjj2R"
      }
    },
    {
      "cell_type": "code",
      "source": [
        "# Define a function named build_person\n",
        "def build_person(first_name, last_name):\n",
        "    \"\"\"Return a dictionary of information about a person profile\"\"\";\n",
        "    person = {'first': first_name, 'last':last_name}\n",
        "    return person\n"
      ],
      "metadata": {
        "id": "HEvTY8j3ZQAD"
      },
      "execution_count": 28,
      "outputs": []
    },
    {
      "cell_type": "code",
      "source": [
        "# Test the build_person function\n",
        "# Create a variable named musician to collect information\n",
        "musician = build_person(\"aishah\", \"zulkifli\")\n",
        "print(musician)"
      ],
      "metadata": {
        "colab": {
          "base_uri": "https://localhost:8080/"
        },
        "id": "M_d_w2FCEtes",
        "outputId": "c860ffc1-43e2-4bed-fed8-d520f115c69a"
      },
      "execution_count": 30,
      "outputs": [
        {
          "output_type": "stream",
          "name": "stdout",
          "text": [
            "{'first': 'aishah', 'last': 'zulkifli'}\n"
          ]
        }
      ]
    },
    {
      "cell_type": "markdown",
      "source": [
        "# **Exercise 9**: accept optional values"
      ],
      "metadata": {
        "id": "KjYU_2E-kYON"
      }
    },
    {
      "cell_type": "code",
      "source": [
        "# Define the build_person function\n",
        "# Add in optional parameter age\n",
        "# using an if statement\n",
        "def build_person(first_name, last_name, age = ''):\n",
        "    \"\"\"Return a dictionary of information about a person profile\"\"\";\n",
        "    person = {'first': first_name, 'last':last_name}\n",
        "\n",
        "    if age:\n",
        "        person['age'] = age\n",
        "    return person"
      ],
      "metadata": {
        "id": "K75cMUYJZ0eD"
      },
      "execution_count": 47,
      "outputs": []
    },
    {
      "cell_type": "code",
      "source": [
        "# Test the build_person function\n",
        "musician = build_person('aishah', 'zulkifli', age = 24)\n",
        "print(musician)"
      ],
      "metadata": {
        "colab": {
          "base_uri": "https://localhost:8080/"
        },
        "id": "iDs2WAEAFbeN",
        "outputId": "5432a55b-6b85-42eb-c014-9d5c8a63d398"
      },
      "execution_count": 48,
      "outputs": [
        {
          "output_type": "stream",
          "name": "stdout",
          "text": [
            "{'first': 'aishah', 'last': 'zulkifli', 'age': 24}\n"
          ]
        }
      ]
    },
    {
      "cell_type": "markdown",
      "source": [
        "# **Exercise 10**: Using a Function with a while loop"
      ],
      "metadata": {
        "id": "CX7_XJIHlMu5"
      }
    },
    {
      "cell_type": "code",
      "source": [
        "# Define the get_formatted_name function\n",
        "\n",
        "def get_formatted_name(first_name, last_name):\n",
        "    \"\"\"Return a full name, neatly formatted\"\"\"\n",
        "    full_name = first_name + ' ' + last_name #full_name here is the variable to store the names of the users\n",
        "    return full_name.title()\n",
        "\n",
        "\n",
        "# Create an infinite loop!\n",
        "while True:\n",
        "    print(\"\\nPlease tell me your name:\")\n",
        "    print(\"(enter 'q' at any time to quit)\")\n",
        "\n",
        "    f_name = input(\"First name:\")\n",
        "    if f_name =='q':\n",
        "        break\n",
        "\n",
        "    l_name = input(\"Last name:\")\n",
        "    if l_name == 'q':\n",
        "        break\n",
        "\n",
        "    formatted_name=get_formatted_name(f_name, l_name) #overwrite the first_name and last_name in get_formatted_name functionq\n",
        "    print(\"\\nHello, \" + formatted_name + \"!\")\n",
        "\n"
      ],
      "metadata": {
        "id": "DZ0vy89RaaVp",
        "colab": {
          "base_uri": "https://localhost:8080/"
        },
        "outputId": "918019d9-ae37-4078-8c6a-c8b4ef256d10"
      },
      "execution_count": 49,
      "outputs": [
        {
          "name": "stdout",
          "output_type": "stream",
          "text": [
            "\n",
            "Please tell me your name:\n",
            "(enter 'q' at any time to quit)\n",
            "First name:aishah\n",
            "Last name:zulkif;i\n",
            "\n",
            "Hello, Aishah Zulkif;I!\n",
            "\n",
            "Please tell me your name:\n",
            "(enter 'q' at any time to quit)\n",
            "First name:q\n"
          ]
        }
      ]
    },
    {
      "cell_type": "markdown",
      "source": [
        "# **Exercise 11**: Passing a list"
      ],
      "metadata": {
        "id": "bZSbbYVpmZr3"
      }
    },
    {
      "cell_type": "code",
      "source": [
        "# Define a greet_users function\n",
        "def greet_users(names):\n",
        "    \"\"\"Print a simple greeting to each other in the list\"\"\"\n",
        "    for name in names:\n",
        "        msg = \"Hello, \" + name.title() + \"!\"\n",
        "        print(msg)"
      ],
      "metadata": {
        "id": "FPng1sWXbQfq"
      },
      "execution_count": 53,
      "outputs": []
    },
    {
      "cell_type": "code",
      "source": [
        "# Test the greet_users function using a list\n",
        "nama = ['hasanah', 'khairil', '\\'Aishah'] # \"\\\" - back slash is a escape character\n",
        "greet_users(nama)"
      ],
      "metadata": {
        "colab": {
          "base_uri": "https://localhost:8080/"
        },
        "id": "Lhfdz56YmpVo",
        "outputId": "c15264fe-665f-450a-9bd4-8d96df80d011"
      },
      "execution_count": 54,
      "outputs": [
        {
          "output_type": "stream",
          "name": "stdout",
          "text": [
            "Hello, Hasanah!\n",
            "Hello, Khairil!\n",
            "Hello, 'Aishah!\n"
          ]
        }
      ]
    },
    {
      "cell_type": "markdown",
      "source": [
        "# **Exercise 12**: Modifying a list in a function"
      ],
      "metadata": {
        "id": "1TMRT2Cym1yd"
      }
    },
    {
      "cell_type": "code",
      "source": [
        "# Define a print_models function\n",
        "# Using unprinted_designs and completed_models as parameters\n",
        "# Using a while loop\n",
        "def print_models(unprinted_designs, completed_models):\n",
        "    \"\"\"\n",
        "    Simulate printing each design, until none are left\n",
        "    Move each printed design to completed_models after printing\n",
        "    \"\"\"\n",
        "    while unprinted_designs:\n",
        "        current_design = unprinted_designs.pop()\n",
        "\n",
        "        print(\"Printing model: \" + current_design)\n",
        "        completed_models.append(current_design)\n",
        "\n",
        "    # Define a show_completed_models function\n",
        "def show_completed_models(completed_models):\n",
        "    \"\"\" Show all the models that were printed\"\"\"\n",
        "    print(\"\\nThe following models have been printed: \")\n",
        "    for completed_models in completed_models:\n",
        "        print(completed_models)\n"
      ],
      "metadata": {
        "id": "IREmpvmldZ8M"
      },
      "execution_count": 56,
      "outputs": []
    },
    {
      "cell_type": "code",
      "source": [
        "# Given the unprinted_designs and complete_models variable\n",
        "unprinted_designs = ['iphone pro max case', 'Malaysian flag', 'UKM Watan logo']\n",
        "completed_models = []"
      ],
      "metadata": {
        "id": "9rM1E3Uhe5vZ"
      },
      "execution_count": 57,
      "outputs": []
    },
    {
      "cell_type": "code",
      "source": [
        "\n",
        "# Test run the two functions\n",
        "print_models(unprinted_designs, completed_models)\n",
        "show_completed_models(completed_models)"
      ],
      "metadata": {
        "colab": {
          "base_uri": "https://localhost:8080/"
        },
        "id": "Fjy5lk5teH3l",
        "outputId": "c59ec2a3-6d28-4d9d-cc23-3848ac7ceab3"
      },
      "execution_count": 58,
      "outputs": [
        {
          "output_type": "stream",
          "name": "stdout",
          "text": [
            "Printing model: UKM Watan logo\n",
            "Printing model: Malaysian flag\n",
            "Printing model: iphone pro max case\n",
            "\n",
            "The following models have been printed: \n",
            "UKM Watan logo\n",
            "Malaysian flag\n",
            "iphone pro max case\n"
          ]
        }
      ]
    },
    {
      "cell_type": "code",
      "source": [
        "# Print the final unprinted_designs\n",
        "print(unprinted_designs)\n",
        "\n",
        "# Print the final completed_models\n",
        "print(completed_models)\n"
      ],
      "metadata": {
        "colab": {
          "base_uri": "https://localhost:8080/"
        },
        "id": "tFATM-3CoMUZ",
        "outputId": "151a2bfb-328f-4c8a-908b-4e892c33fb41"
      },
      "execution_count": 59,
      "outputs": [
        {
          "output_type": "stream",
          "name": "stdout",
          "text": [
            "[]\n",
            "['UKM Watan logo', 'Malaysian flag', 'iphone pro max case']\n"
          ]
        }
      ]
    },
    {
      "cell_type": "markdown",
      "source": [
        "# **Exercise 13**: Passing an Arbitrary Number of Arguments"
      ],
      "metadata": {
        "id": "40hG76PqofzK"
      }
    },
    {
      "cell_type": "code",
      "source": [
        "# Define a make_pizza function\n",
        "# Using an asterisk (*) to make a tuple\n",
        "def make_pizza(size, *toppings):\n",
        "    \"\"\"Summarise the pizza we are about to make\"\"\"\n",
        "    print(\"\\nMaking a \" + str(size) + \"-inch pizza with the following toppings:\")\n",
        "\n",
        "    for topping in toppings:\n",
        "        print(\"-\" + topping)"
      ],
      "metadata": {
        "id": "SPUnVgGrgdfM"
      },
      "execution_count": 60,
      "outputs": []
    },
    {
      "cell_type": "code",
      "source": [
        "# Test run the make_pizza function: 1\n",
        "make_pizza(16,'tuna and nanas')"
      ],
      "metadata": {
        "colab": {
          "base_uri": "https://localhost:8080/"
        },
        "id": "c8hWWwENglJT",
        "outputId": "86ec7128-1463-40ce-9d55-a0f6932ce23c"
      },
      "execution_count": 61,
      "outputs": [
        {
          "output_type": "stream",
          "name": "stdout",
          "text": [
            "\n",
            "Making a 16-inch pizza with the following toppings:\n",
            "-tuna and nanas\n"
          ]
        }
      ]
    },
    {
      "cell_type": "code",
      "source": [
        "# Test run the make_pizza function: 2\n",
        "make_pizza(16,'tuna', 'nanas','extra cheese', 'crab meat', 'pickles')"
      ],
      "metadata": {
        "colab": {
          "base_uri": "https://localhost:8080/"
        },
        "id": "i6MY1O6GMvhl",
        "outputId": "ba12b432-aace-484c-f077-dbe892bef70b"
      },
      "execution_count": 62,
      "outputs": [
        {
          "output_type": "stream",
          "name": "stdout",
          "text": [
            "\n",
            "Making a 16-inch pizza with the following toppings:\n",
            "-tuna\n",
            "-nanas\n",
            "-extra cheese\n",
            "-crab meat\n",
            "-pickles\n"
          ]
        }
      ]
    },
    {
      "cell_type": "markdown",
      "source": [
        "# **What is a *python tuple*?**\n",
        "Python tuples are a type of data structure that is very similar to lists. The main difference between the two is that ***tuples are immutable***, meaning they ***cannot be changed once they are created***. This makes them ideal for storing data that ***should not be modified, such as database records***.\n",
        "\n",
        "For more information, please visit this link: https://tinyurl.com/yv7b3dzw"
      ],
      "metadata": {
        "id": "8G4FXQ_9pPlS"
      }
    },
    {
      "cell_type": "markdown",
      "source": [
        "# **Exercise 14**: Using arbitrary keyword arguments"
      ],
      "metadata": {
        "id": "ot-m1uP4p77o"
      }
    },
    {
      "cell_type": "code",
      "source": [
        "# Define a build_profile function\n",
        "# Use a double asterisk (**) to create empty dictionary [to store key-value pairs]\n",
        "# Using a for loop\n",
        "\n",
        "def build_profile(first, last, **user_info):\n",
        "    \"\"\"Build a dictionary containing everything we know about a user\"\"\"\n",
        "    profile = {}\n",
        "    profile['first_name'] = first\n",
        "    profile['last_name'] = last\n",
        "\n",
        "    for key, value in user_info.items():\n",
        "        profile[key] = value\n",
        "    return profile\n",
        "\n"
      ],
      "metadata": {
        "id": "YSkms1bvjSLL"
      },
      "execution_count": 63,
      "outputs": []
    },
    {
      "cell_type": "code",
      "source": [
        "# Test run the build_profile function\n",
        "user_profile = build_profile('suraya', 'adnin',\n",
        "                             location = 'johor',\n",
        "                             field = 'logistics')\n",
        "print(user_profile)"
      ],
      "metadata": {
        "colab": {
          "base_uri": "https://localhost:8080/"
        },
        "id": "DwRHhiCtjcGc",
        "outputId": "8b9741ac-fcab-4b60-b842-489a81d9da9b"
      },
      "execution_count": 65,
      "outputs": [
        {
          "output_type": "stream",
          "name": "stdout",
          "text": [
            "{'first_name': 'suraya', 'last_name': 'adnin', 'location': 'johor', 'field': 'logistics'}\n"
          ]
        }
      ]
    },
    {
      "cell_type": "markdown",
      "source": [
        "# **Exercise 15**: Storing Functions in a Module\n",
        "* Store function in a separate file called ***module***\n",
        "* Import the module into the main program\n",
        "* Storing functions in a separate file allows us to ***hide the details of our program’s code*** and focus on its higher-level logic\n",
        "* Allows us to reuse functions in many different programs\n",
        "* We can share those files with other programmers without having to share our entire program."
      ],
      "metadata": {
        "id": "Wd7a9L2NN3Gh"
      }
    },
    {
      "cell_type": "code",
      "source": [
        "# We need to first mount to the Google Drive as we are now in the \"cloud\"\n",
        "# The module we need is saved in the Google Drive\n",
        "from google.colab import drive\n",
        "drive.mount('/content/drive')"
      ],
      "metadata": {
        "colab": {
          "base_uri": "https://localhost:8080/"
        },
        "id": "ueJGm3XZR2vk",
        "outputId": "4d947b6a-be4b-448a-c01f-eb9711abb4c3"
      },
      "execution_count": null,
      "outputs": [
        {
          "output_type": "stream",
          "name": "stdout",
          "text": [
            "Mounted at /content/drive\n"
          ]
        }
      ]
    },
    {
      "cell_type": "markdown",
      "source": [
        "# **Method I**: Manual upload from our local computer (very troublesome)\n",
        "* make a python module named **pizza.py** in your local computer\n",
        "* upload to the Google Drive"
      ],
      "metadata": {
        "id": "WpuaP-LlRp1h"
      }
    },
    {
      "cell_type": "code",
      "source": [
        "# Upload the module called pizza.py from local computer\n",
        "# Copy to the /content file location\n",
        "# We are currently run in /content -> the \"cloud\"\n",
        "!cp /content/drive/MyDrive/STQD6014_Executive/_SEM1_20232024/pizza.py /content"
      ],
      "metadata": {
        "id": "ghPlGFr1OOPK"
      },
      "execution_count": null,
      "outputs": []
    },
    {
      "cell_type": "markdown",
      "source": [
        "# **Dot notation (.)**\n",
        "* is a syntax used in programming languages like Python to access an object's attributes and methods\n",
        "* making it easier to search complex data structures\n"
      ],
      "metadata": {
        "id": "_jwmppQ-VVFj"
      }
    },
    {
      "cell_type": "markdown",
      "source": [
        "# Executing ***module_name.function_name()***\n",
        "* make each function in the module available"
      ],
      "metadata": {
        "id": "SJEV4IUtWhZj"
      }
    },
    {
      "cell_type": "code",
      "source": [
        "# Import the pizza.py module\n",
        "# Each function in the module is available\n",
        "import pizza\n",
        "\n",
        "# Run the make_pizza function\n",
        "# the make_pizza function is defined in the pizza module\n",
        "pizza.make_pizza(16, 'tuna')\n",
        "pizza.make_pizza(12, 'mushrooms', 'green peppers', 'extra cheese')"
      ],
      "metadata": {
        "colab": {
          "base_uri": "https://localhost:8080/"
        },
        "id": "io4_kSSSTEeN",
        "outputId": "697cc94c-f5a6-4b4a-d4e9-e9a172823a7c"
      },
      "execution_count": null,
      "outputs": [
        {
          "output_type": "stream",
          "name": "stdout",
          "text": [
            "\n",
            "Making a 16-inch pizza with the following toppings:\n",
            "- tuna\n",
            "\n",
            "Making a 12-inch pizza with the following toppings:\n",
            "- mushrooms\n",
            "- green peppers\n",
            "- extra cheese\n"
          ]
        }
      ]
    },
    {
      "cell_type": "markdown",
      "source": [
        "# Executing ***from module_name import function_name***\n",
        "* import a specific function from a module\n",
        "* don’t need to use the dot notation when we call a function"
      ],
      "metadata": {
        "id": "Xo27m1TNW9_g"
      }
    },
    {
      "cell_type": "code",
      "source": [
        "# Importing a Specific Function from a module\n",
        "from pizza import make_pizza\n",
        "\n",
        "make_pizza(16, 'tuna')\n",
        "make_pizza(12, 'mushrooms', 'green peppers', 'extra cheese')"
      ],
      "metadata": {
        "colab": {
          "base_uri": "https://localhost:8080/"
        },
        "id": "lALzafxJTV2u",
        "outputId": "e1aa8f85-a1a6-4f04-9be5-f0ed7536f34f"
      },
      "execution_count": null,
      "outputs": [
        {
          "output_type": "stream",
          "name": "stdout",
          "text": [
            "\n",
            "Making a 16-inch pizza with the following toppings:\n",
            "- tuna\n",
            "\n",
            "Making a 12-inch pizza with the following toppings:\n",
            "- mushrooms\n",
            "- green peppers\n",
            "- extra cheese\n"
          ]
        }
      ]
    },
    {
      "cell_type": "markdown",
      "source": [
        "# Using ***as*** to Give a Function an ***Alias***\n",
        "* If the name of a function you’re importing might conflict with an existing name in your program, or\n",
        "* if the function name is long,\n",
        "\n",
        "    * we can use a ***short, unique alias***—an alternate name similar to a nickname for the function."
      ],
      "metadata": {
        "id": "yrMGitr6XOu2"
      }
    },
    {
      "cell_type": "code",
      "source": [
        "# Using Alias\n",
        "from pizza import make_pizza as mp\n",
        "\n",
        "mp(16, 'tuna')\n",
        "mp(12, 'mushrooms', 'green peppers', 'extra cheese')"
      ],
      "metadata": {
        "colab": {
          "base_uri": "https://localhost:8080/"
        },
        "id": "fmeyX-ZWXVxX",
        "outputId": "771f1ac2-a63d-4482-ff16-a5985fe86eee"
      },
      "execution_count": null,
      "outputs": [
        {
          "output_type": "stream",
          "name": "stdout",
          "text": [
            "\n",
            "Making a 16-inch pizza with the following toppings:\n",
            "- tuna\n",
            "\n",
            "Making a 12-inch pizza with the following toppings:\n",
            "- mushrooms\n",
            "- green peppers\n",
            "- extra cheese\n"
          ]
        }
      ]
    },
    {
      "cell_type": "markdown",
      "source": [
        "# **Method II: Semi-Manual upload module to Google Drive**\n"
      ],
      "metadata": {
        "id": "2EAuWmhyYoLp"
      }
    },
    {
      "cell_type": "code",
      "source": [
        "# Semi-manual upload module\n",
        "from google.colab import files\n",
        "files.upload()"
      ],
      "metadata": {
        "colab": {
          "base_uri": "https://localhost:8080/",
          "height": 125
        },
        "id": "Mi0EJRWrY-VF",
        "outputId": "e0a992a8-f673-426c-9301-f9cae8692ab3"
      },
      "execution_count": null,
      "outputs": [
        {
          "output_type": "display_data",
          "data": {
            "text/plain": [
              "<IPython.core.display.HTML object>"
            ],
            "text/html": [
              "\n",
              "     <input type=\"file\" id=\"files-67a9f843-a1e8-4923-897c-33120fc88444\" name=\"files[]\" multiple disabled\n",
              "        style=\"border:none\" />\n",
              "     <output id=\"result-67a9f843-a1e8-4923-897c-33120fc88444\">\n",
              "      Upload widget is only available when the cell has been executed in the\n",
              "      current browser session. Please rerun this cell to enable.\n",
              "      </output>\n",
              "      <script>// Copyright 2017 Google LLC\n",
              "//\n",
              "// Licensed under the Apache License, Version 2.0 (the \"License\");\n",
              "// you may not use this file except in compliance with the License.\n",
              "// You may obtain a copy of the License at\n",
              "//\n",
              "//      http://www.apache.org/licenses/LICENSE-2.0\n",
              "//\n",
              "// Unless required by applicable law or agreed to in writing, software\n",
              "// distributed under the License is distributed on an \"AS IS\" BASIS,\n",
              "// WITHOUT WARRANTIES OR CONDITIONS OF ANY KIND, either express or implied.\n",
              "// See the License for the specific language governing permissions and\n",
              "// limitations under the License.\n",
              "\n",
              "/**\n",
              " * @fileoverview Helpers for google.colab Python module.\n",
              " */\n",
              "(function(scope) {\n",
              "function span(text, styleAttributes = {}) {\n",
              "  const element = document.createElement('span');\n",
              "  element.textContent = text;\n",
              "  for (const key of Object.keys(styleAttributes)) {\n",
              "    element.style[key] = styleAttributes[key];\n",
              "  }\n",
              "  return element;\n",
              "}\n",
              "\n",
              "// Max number of bytes which will be uploaded at a time.\n",
              "const MAX_PAYLOAD_SIZE = 100 * 1024;\n",
              "\n",
              "function _uploadFiles(inputId, outputId) {\n",
              "  const steps = uploadFilesStep(inputId, outputId);\n",
              "  const outputElement = document.getElementById(outputId);\n",
              "  // Cache steps on the outputElement to make it available for the next call\n",
              "  // to uploadFilesContinue from Python.\n",
              "  outputElement.steps = steps;\n",
              "\n",
              "  return _uploadFilesContinue(outputId);\n",
              "}\n",
              "\n",
              "// This is roughly an async generator (not supported in the browser yet),\n",
              "// where there are multiple asynchronous steps and the Python side is going\n",
              "// to poll for completion of each step.\n",
              "// This uses a Promise to block the python side on completion of each step,\n",
              "// then passes the result of the previous step as the input to the next step.\n",
              "function _uploadFilesContinue(outputId) {\n",
              "  const outputElement = document.getElementById(outputId);\n",
              "  const steps = outputElement.steps;\n",
              "\n",
              "  const next = steps.next(outputElement.lastPromiseValue);\n",
              "  return Promise.resolve(next.value.promise).then((value) => {\n",
              "    // Cache the last promise value to make it available to the next\n",
              "    // step of the generator.\n",
              "    outputElement.lastPromiseValue = value;\n",
              "    return next.value.response;\n",
              "  });\n",
              "}\n",
              "\n",
              "/**\n",
              " * Generator function which is called between each async step of the upload\n",
              " * process.\n",
              " * @param {string} inputId Element ID of the input file picker element.\n",
              " * @param {string} outputId Element ID of the output display.\n",
              " * @return {!Iterable<!Object>} Iterable of next steps.\n",
              " */\n",
              "function* uploadFilesStep(inputId, outputId) {\n",
              "  const inputElement = document.getElementById(inputId);\n",
              "  inputElement.disabled = false;\n",
              "\n",
              "  const outputElement = document.getElementById(outputId);\n",
              "  outputElement.innerHTML = '';\n",
              "\n",
              "  const pickedPromise = new Promise((resolve) => {\n",
              "    inputElement.addEventListener('change', (e) => {\n",
              "      resolve(e.target.files);\n",
              "    });\n",
              "  });\n",
              "\n",
              "  const cancel = document.createElement('button');\n",
              "  inputElement.parentElement.appendChild(cancel);\n",
              "  cancel.textContent = 'Cancel upload';\n",
              "  const cancelPromise = new Promise((resolve) => {\n",
              "    cancel.onclick = () => {\n",
              "      resolve(null);\n",
              "    };\n",
              "  });\n",
              "\n",
              "  // Wait for the user to pick the files.\n",
              "  const files = yield {\n",
              "    promise: Promise.race([pickedPromise, cancelPromise]),\n",
              "    response: {\n",
              "      action: 'starting',\n",
              "    }\n",
              "  };\n",
              "\n",
              "  cancel.remove();\n",
              "\n",
              "  // Disable the input element since further picks are not allowed.\n",
              "  inputElement.disabled = true;\n",
              "\n",
              "  if (!files) {\n",
              "    return {\n",
              "      response: {\n",
              "        action: 'complete',\n",
              "      }\n",
              "    };\n",
              "  }\n",
              "\n",
              "  for (const file of files) {\n",
              "    const li = document.createElement('li');\n",
              "    li.append(span(file.name, {fontWeight: 'bold'}));\n",
              "    li.append(span(\n",
              "        `(${file.type || 'n/a'}) - ${file.size} bytes, ` +\n",
              "        `last modified: ${\n",
              "            file.lastModifiedDate ? file.lastModifiedDate.toLocaleDateString() :\n",
              "                                    'n/a'} - `));\n",
              "    const percent = span('0% done');\n",
              "    li.appendChild(percent);\n",
              "\n",
              "    outputElement.appendChild(li);\n",
              "\n",
              "    const fileDataPromise = new Promise((resolve) => {\n",
              "      const reader = new FileReader();\n",
              "      reader.onload = (e) => {\n",
              "        resolve(e.target.result);\n",
              "      };\n",
              "      reader.readAsArrayBuffer(file);\n",
              "    });\n",
              "    // Wait for the data to be ready.\n",
              "    let fileData = yield {\n",
              "      promise: fileDataPromise,\n",
              "      response: {\n",
              "        action: 'continue',\n",
              "      }\n",
              "    };\n",
              "\n",
              "    // Use a chunked sending to avoid message size limits. See b/62115660.\n",
              "    let position = 0;\n",
              "    do {\n",
              "      const length = Math.min(fileData.byteLength - position, MAX_PAYLOAD_SIZE);\n",
              "      const chunk = new Uint8Array(fileData, position, length);\n",
              "      position += length;\n",
              "\n",
              "      const base64 = btoa(String.fromCharCode.apply(null, chunk));\n",
              "      yield {\n",
              "        response: {\n",
              "          action: 'append',\n",
              "          file: file.name,\n",
              "          data: base64,\n",
              "        },\n",
              "      };\n",
              "\n",
              "      let percentDone = fileData.byteLength === 0 ?\n",
              "          100 :\n",
              "          Math.round((position / fileData.byteLength) * 100);\n",
              "      percent.textContent = `${percentDone}% done`;\n",
              "\n",
              "    } while (position < fileData.byteLength);\n",
              "  }\n",
              "\n",
              "  // All done.\n",
              "  yield {\n",
              "    response: {\n",
              "      action: 'complete',\n",
              "    }\n",
              "  };\n",
              "}\n",
              "\n",
              "scope.google = scope.google || {};\n",
              "scope.google.colab = scope.google.colab || {};\n",
              "scope.google.colab._files = {\n",
              "  _uploadFiles,\n",
              "  _uploadFilesContinue,\n",
              "};\n",
              "})(self);\n",
              "</script> "
            ]
          },
          "metadata": {}
        },
        {
          "output_type": "stream",
          "name": "stdout",
          "text": [
            "Saving pizza02.py to pizza02.py\n"
          ]
        },
        {
          "output_type": "execute_result",
          "data": {
            "text/plain": [
              "{'pizza02.py': b'# -*- coding: utf-8 -*-\\n\"\"\"pizza.ipynb\\n\\nAutomatically generated by Colaboratory.\\n\\nOriginal file is located at\\n    https://colab.research.google.com/drive/14ylB2HYQFyo1U7QmVQmLDDJBs4_CcBhF\\n\"\"\"\\n\\ndef make_pizza(size, *toppings):\\n    \"\"\"Summarize the pizza we are about to make.\"\"\"\\n    print(\"\\\\nMaking a \" + str(size) +\\n          \"-inch pizza with the following toppings:\")\\n    for topping in toppings:\\n        print(\"- \" + topping)'}"
            ]
          },
          "metadata": {},
          "execution_count": 30
        }
      ]
    },
    {
      "cell_type": "code",
      "source": [
        "# Run the module and function\n",
        "from pizza02 import make_pizza as mp\n",
        "mp(16, 'tuna fish')"
      ],
      "metadata": {
        "colab": {
          "base_uri": "https://localhost:8080/"
        },
        "id": "Z4jMlZfqZLbx",
        "outputId": "a9a4f316-db45-4aa8-c5b9-b188db1ff4fb"
      },
      "execution_count": null,
      "outputs": [
        {
          "output_type": "stream",
          "name": "stdout",
          "text": [
            "\n",
            "Making a 16-inch pizza with the following toppings:\n",
            "- tuna fish\n"
          ]
        }
      ]
    },
    {
      "cell_type": "markdown",
      "source": [
        "# **Good Luck and see you all next week :)**"
      ],
      "metadata": {
        "id": "AsgDHq4zrrdy"
      }
    }
  ]
}