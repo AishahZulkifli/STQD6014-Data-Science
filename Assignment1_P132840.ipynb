{
  "nbformat": 4,
  "nbformat_minor": 0,
  "metadata": {
    "colab": {
      "provenance": [],
      "authorship_tag": "ABX9TyPfU0I45YngPcCnYrblfWE0",
      "include_colab_link": true
    },
    "kernelspec": {
      "name": "python3",
      "display_name": "Python 3"
    },
    "language_info": {
      "name": "python"
    }
  },
  "cells": [
    {
      "cell_type": "markdown",
      "metadata": {
        "id": "view-in-github",
        "colab_type": "text"
      },
      "source": [
        "<a href=\"https://colab.research.google.com/github/AishahZulkifli/STQD6014-Data-Science/blob/main/Assignment1_P132840.ipynb\" target=\"_parent\"><img src=\"https://colab.research.google.com/assets/colab-badge.svg\" alt=\"Open In Colab\"/></a>"
      ]
    },
    {
      "cell_type": "markdown",
      "source": [
        "For this assignment, you are required to write a Python program to manage **student names** and their **exam scores** for a **minimum of three different subjects**. Your program should have the following functionalities:\n",
        "\n",
        "   1. Calculate and display the **average score for each student.**\n",
        "   2. Identify the students with the **highest and lowest scores.**\n",
        "\n",
        "Your program should be capable of handling situations where **multiple students may have the same highest or lowest score**. In such cases, the program should display the **names of all students** involved and their respective scores."
      ],
      "metadata": {
        "id": "lXucvA4fUWqp"
      }
    },
    {
      "cell_type": "code",
      "source": [
        "# Create a list of students.\n",
        "students = [\n",
        "  {\"name\": \"ali\", \"scores\": [80, 75, 90]},\n",
        "  {\"name\": \"muthu\", \"scores\": [85, 70, 80]},\n",
        "  {\"name\": \"mei ling\", \"scores\": [90, 95, 85]}\n",
        "]\n",
        "\n",
        "print(\"Student Average Scores:\")\n",
        "\n",
        "# Define a function to calculate and display average score for each student\n",
        "def calculate_average(scores):\n",
        "  return sum(scores) / len(scores)\n",
        "\n",
        "for student in students:\n",
        "  name = student[\"name\"]\n",
        "  scores = student[\"scores\"]\n",
        "\n",
        "  avg = calculate_average(scores)\n",
        "\n",
        "  print (name.title() + f\": {avg:.2f}\")\n",
        "\n",
        "# Define a function to identify students with highest and lowest scores\n",
        "high_score = 0\n",
        "high_scorer = []\n",
        "\n",
        "low_score = 100\n",
        "low_scorer = []\n",
        "\n",
        "for student in students:\n",
        "    for score in student[\"scores\"]:\n",
        "        # Check for highest score\n",
        "        if score > high_score:\n",
        "            high_score = score\n",
        "            high_scorer = student[\"name\"]\n",
        "        # Check for lowest score\n",
        "        if score < low_score:\n",
        "            low_score = score\n",
        "            low_scorer = student[\"name\"]\n",
        "\n",
        "# Display the students with the highest and lowest scores.\n",
        "print(f\"\\nHighest score: {high_scorer.title()} - {high_score}\")\n",
        "print(f\"Lowest score: {low_scorer.title()} - {low_score}\")"
      ],
      "metadata": {
        "colab": {
          "base_uri": "https://localhost:8080/"
        },
        "id": "lpDSeA1ZBOHm",
        "outputId": "845b3142-d506-4270-996e-18a8aabe9c18"
      },
      "execution_count": 41,
      "outputs": [
        {
          "output_type": "stream",
          "name": "stdout",
          "text": [
            "Student Average Scores:\n",
            "Ali: 81.67\n",
            "Muthu: 78.33\n",
            "Mei Ling: 90.00\n",
            "\n",
            "Highest score: Mei Ling - 95\n",
            "Lowest score: Muthu - 70\n"
          ]
        }
      ]
    }
  ]
}