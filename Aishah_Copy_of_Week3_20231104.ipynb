{
  "cells": [
    {
      "cell_type": "markdown",
      "metadata": {
        "id": "view-in-github",
        "colab_type": "text"
      },
      "source": [
        "<a href=\"https://colab.research.google.com/github/AishahZulkifli/STQD6014-Data-Science/blob/main/Aishah_Copy_of_Week3_20231104.ipynb\" target=\"_parent\"><img src=\"https://colab.research.google.com/assets/colab-badge.svg\" alt=\"Open In Colab\"/></a>"
      ]
    },
    {
      "cell_type": "markdown",
      "metadata": {
        "id": "wAJzPiuPfytH"
      },
      "source": [
        "# **Week 03: If Statement**"
      ]
    },
    {
      "cell_type": "code",
      "execution_count": null,
      "metadata": {
        "colab": {
          "base_uri": "https://localhost:8080/"
        },
        "id": "K3kRlxvX6A7L",
        "outputId": "eb962b52-de38-47c6-e701-abd4f209073e"
      },
      "outputs": [
        {
          "name": "stdout",
          "output_type": "stream",
          "text": [
            "Audi\n",
            "BMW\n",
            "Subaru\n",
            "Toyota\n"
          ]
        }
      ],
      "source": [
        "# Exercise 1\n",
        "cars = ['audi', 'bmw', 'subaru', 'toyota']\n",
        "\n",
        "for i in cars:\n",
        "    if i =='bmw':\n",
        "       print(i.upper())\n",
        "    else:\n",
        "       print(i.title())"
      ]
    },
    {
      "cell_type": "code",
      "execution_count": null,
      "metadata": {
        "colab": {
          "base_uri": "https://localhost:8080/"
        },
        "id": "fviS0BYz8fUO",
        "outputId": "5efd8d56-74be-4a46-e25b-95dc6117dcec"
      },
      "outputs": [
        {
          "name": "stdout",
          "output_type": "stream",
          "text": [
            "Aishah, please serve the anchovies fast!!!!\n"
          ]
        }
      ],
      "source": [
        "# Exercise 2\n",
        "requested_topping = 'anchovies'\n",
        "\n",
        "if requested_topping != 'anchovies':\n",
        "    print('Hold the anchovies')\n",
        "else:\n",
        "    print('Aishah, please serve the anchovies fast!!!!')\n"
      ]
    },
    {
      "cell_type": "code",
      "execution_count": null,
      "metadata": {
        "colab": {
          "base_uri": "https://localhost:8080/"
        },
        "id": "gxiACIFZHNds",
        "outputId": "bb85eeab-d3ea-427a-8e8d-a656e3c11c2f"
      },
      "outputs": [
        {
          "name": "stdout",
          "output_type": "stream",
          "text": [
            "Hold the anchovies\n"
          ]
        }
      ],
      "source": [
        "requested_topping = 'cheese'\n",
        "\n",
        "if requested_topping != 'anchovies':\n",
        "    print('Hold the anchovies')\n",
        "else:\n",
        "    print('Aishah, please serve the anchovies fast!!!!')"
      ]
    },
    {
      "cell_type": "code",
      "execution_count": null,
      "metadata": {
        "id": "hV59aeSw8uSF"
      },
      "outputs": [],
      "source": [
        "# Exercise 3\n",
        "age_0 = 22\n",
        "age_1 = 18\n",
        "\n"
      ]
    },
    {
      "cell_type": "code",
      "execution_count": null,
      "metadata": {
        "id": "69W0k1_NgKOS"
      },
      "outputs": [],
      "source": [
        "# Checking using different condition\n",
        "# age_0 < 21 and age_1 < 21 - FALSE\n",
        "# age_0 < 21 or age_1 < 21 - TRUE\n",
        "# age_0 >= 21 and age_1 >= 21 - FALSE\n",
        "# age_0 >= 21 or age_1 >= 21 - TRUE\n",
        "# age_0 >= 21 and age_1 >= 21 - TRUE\n"
      ]
    },
    {
      "cell_type": "code",
      "execution_count": null,
      "metadata": {
        "colab": {
          "base_uri": "https://localhost:8080/"
        },
        "id": "tIRkHXIeIBKd",
        "outputId": "3231b24e-a211-4fc8-9bbf-acf1c6775a8c"
      },
      "outputs": [
        {
          "name": "stdout",
          "output_type": "stream",
          "text": [
            "False True False True True\n"
          ]
        }
      ],
      "source": [
        "A = age_0 < 21 and age_1 < 21\n",
        "B = age_0 < 21 or age_1 < 21\n",
        "C = age_0 >= 21 and age_1 >= 21\n",
        "D = age_0 >= 21 or age_1 >= 21\n",
        "E = age_0 >= 21 and age_1 >= 2\n",
        "\n",
        "print(A,B,C,D,E)"
      ]
    },
    {
      "cell_type": "markdown",
      "metadata": {
        "id": "Wk6VCX9djopY"
      },
      "source": [
        "# **A point of ponder :)**"
      ]
    },
    {
      "cell_type": "code",
      "execution_count": null,
      "metadata": {
        "colab": {
          "base_uri": "https://localhost:8080/"
        },
        "id": "9xZGmLTVkHlh",
        "outputId": "a88049e0-a527-4cc3-9276-701d4f68e156"
      },
      "outputs": [
        {
          "data": {
            "text/plain": [
              "True"
            ]
          },
          "execution_count": 21,
          "metadata": {},
          "output_type": "execute_result"
        }
      ],
      "source": [
        "# What would the following code evaluate to? True or False?\n",
        "# and why?\n",
        "age_0 and age_1 < 21"
      ]
    },
    {
      "cell_type": "code",
      "execution_count": null,
      "metadata": {
        "colab": {
          "base_uri": "https://localhost:8080/"
        },
        "id": "z5wPseRl-VyI",
        "outputId": "a8cf1ba1-5236-43a3-eb83-3a8a69226e26"
      },
      "outputs": [
        {
          "data": {
            "text/plain": [
              "False"
            ]
          },
          "execution_count": 25,
          "metadata": {},
          "output_type": "execute_result"
        }
      ],
      "source": [
        "# Exercise 4 - using the keyword 'in'\n",
        "requested_topping = ['mushrooms', 'onions', 'pineapple']\n",
        "\n",
        "# Check whether mushrooms is in the topping list\n",
        "#Case sensitive\n",
        "'mushrooms' in requested_topping\n",
        "\n",
        "# Check whether pepperoni is in the topping list\n",
        "'pepperoni' in requested_topping\n",
        "\n"
      ]
    },
    {
      "cell_type": "code",
      "execution_count": null,
      "metadata": {
        "colab": {
          "base_uri": "https://localhost:8080/"
        },
        "id": "RWb1iy4I-eFb",
        "outputId": "3392ee92-fbd5-4d37-888a-661d51d551b2"
      },
      "outputs": [
        {
          "name": "stdout",
          "output_type": "stream",
          "text": [
            "7, you can post a response if you wish.\n"
          ]
        }
      ],
      "source": [
        "# Exercise 5\n",
        "banned_users = ['andrew', 'carolina', 'david']\n",
        "\n",
        "# Check whether marie, 007 and andrew is in the banned user list\n",
        "# user = 'marie'\n",
        "\n",
        "user = 7\n",
        "if user not in banned_users:\n",
        "    print (str(user) +', you can post a response if you wish.')\n",
        "\n",
        "\n",
        "#user = 'andrew'\n"
      ]
    },
    {
      "cell_type": "code",
      "execution_count": null,
      "metadata": {
        "colab": {
          "base_uri": "https://localhost:8080/"
        },
        "id": "Usq-CnrjCi71",
        "outputId": "6a9a09e1-9d65-4047-9d08-da499c701691"
      },
      "outputs": [
        {
          "name": "stdout",
          "output_type": "stream",
          "text": [
            "Is car == 'subaru'? I predict True.\n",
            "True\n",
            "\n",
            "Is car == 'audi'? I predict False\n",
            "False\n"
          ]
        }
      ],
      "source": [
        "# Try it yourself\n",
        "# Try making sense of it\n",
        "car = 'subaru'\n",
        "print(\"Is car == 'subaru'? I predict True.\")\n",
        "print(car == \"subaru\") #this is a logical comparison; not printing string\n",
        "\n",
        "print(\"\\nIs car == 'audi'? I predict False\")\n",
        "print(car == 'audi')"
      ]
    },
    {
      "cell_type": "code",
      "execution_count": null,
      "metadata": {
        "colab": {
          "base_uri": "https://localhost:8080/"
        },
        "id": "BN5LXsVWDN_b",
        "outputId": "137e3007-93ea-4199-ed36-186b24734788"
      },
      "outputs": [
        {
          "name": "stdout",
          "output_type": "stream",
          "text": [
            "Too bad...You would have to wait for GE17\n"
          ]
        }
      ],
      "source": [
        "# If statement\n",
        "age = 17\n",
        "\n",
        "if age >= 18:\n",
        "  print('You are old enough to vote!')\n",
        "  print('Have you registered to vote yet?')\n",
        "  print('Oh ya, tak yah register pun')\n",
        "else:\n",
        "  print(\"Too bad...You would have to wait for GE17\")\n"
      ]
    },
    {
      "cell_type": "code",
      "execution_count": null,
      "metadata": {
        "colab": {
          "base_uri": "https://localhost:8080/"
        },
        "id": "5lNf9lMgEO4H",
        "outputId": "6aa4e3a0-ebeb-4d04-d610-8e9770aaecdd"
      },
      "outputs": [
        {
          "name": "stdout",
          "output_type": "stream",
          "text": [
            "Your admission rate is RM5.\n"
          ]
        }
      ],
      "source": [
        "# Given the if-elif-else statement\n",
        "age = 9\n",
        "if age < 4:\n",
        "    print(\"Your admission rate is RM0.\")\n",
        "elif age < 18:\n",
        "    print(\"Your admission rate is RM5.\")\n",
        "else:\n",
        "    print(\"Your admission rate is RM10.\")"
      ]
    },
    {
      "cell_type": "code",
      "execution_count": null,
      "metadata": {
        "colab": {
          "base_uri": "https://localhost:8080/"
        },
        "id": "litAhuvSGR6l",
        "outputId": "c251b207-1449-4521-d87a-3960c01b3f5c"
      },
      "outputs": [
        {
          "name": "stdout",
          "output_type": "stream",
          "text": [
            "Your admission rate is RM5, Andrew.\n"
          ]
        }
      ],
      "source": [
        "# Exercise 6 - Revising the previous code for a cleaner version\n",
        "age = 67\n",
        "user = 'andrew'\n",
        "\n",
        "if age < 4:\n",
        "    rate = 0\n",
        "elif age < 18:\n",
        "    rate = 5\n",
        "elif age < 65:\n",
        "    rate = 10\n",
        "else:\n",
        "    rate = 5\n",
        "\n",
        "print('Your admission rate is RM'+ str(rate) +', ' + user.title() + '.')\n",
        "\n"
      ]
    },
    {
      "cell_type": "code",
      "execution_count": null,
      "metadata": {
        "colab": {
          "base_uri": "https://localhost:8080/"
        },
        "id": "T6AvirgKHEWz",
        "outputId": "b54a69c1-503b-4b65-c84d-a47be4b10bf3"
      },
      "outputs": [
        {
          "name": "stdout",
          "output_type": "stream",
          "text": [
            "Your admission rate is RM5, Andrew.\n"
          ]
        }
      ],
      "source": [
        "# Exercise 7 - end the code using elif for easier interpretation\n",
        "age = 67\n",
        "\n",
        "if age < 4:\n",
        "    rate = 0\n",
        "elif age < 18:\n",
        "    rate = 5\n",
        "elif age < 65:\n",
        "    rate = 10\n",
        "elif age >= 65:\n",
        "    rate = 5\n",
        "\n",
        "print('Your admission rate is RM'+ str(rate) +', ' + user.title() + '.')\n"
      ]
    },
    {
      "cell_type": "code",
      "execution_count": null,
      "metadata": {
        "colab": {
          "base_uri": "https://localhost:8080/"
        },
        "id": "FUPOtDHjXZAr",
        "outputId": "6f78c927-f098-4cbf-fd21-583827d34d35"
      },
      "outputs": [
        {
          "name": "stdout",
          "output_type": "stream",
          "text": [
            "Adding mushrooms\n",
            "Adding extra cheese\n",
            "\n",
            "Finished making your pizza!!!!\n"
          ]
        }
      ],
      "source": [
        "# Exercise 8 - multiple if\n",
        "requested_topping = ['mushrooms', 'extra cheese']\n",
        "\n",
        "if 'mushrooms' in requested_topping:\n",
        "    print('Adding mushrooms')\n",
        "if 'peperoni' in requested_topping:\n",
        "    print('Adding peperoni')\n",
        "if 'extra cheese' in requested_topping:\n",
        "    print('Adding extra cheese')\n",
        "\n",
        "print('\\nFinished making your pizza!!!!')\n"
      ]
    },
    {
      "cell_type": "code",
      "execution_count": null,
      "metadata": {
        "colab": {
          "base_uri": "https://localhost:8080/"
        },
        "id": "sy9baNJxYusX",
        "outputId": "bf730865-c025-4420-8622-e8d28e549b97"
      },
      "outputs": [
        {
          "name": "stdout",
          "output_type": "stream",
          "text": [
            "Adding mushrooms.\n",
            "Adding extra cheese.\n",
            "Sorry, we are out of green peppers right now!\n",
            "\n",
            "Finished making your pizza!\n"
          ]
        }
      ],
      "source": [
        "# Exercise 9 - To check for special conditions / items\n",
        "requested_toppings = ['mushrooms', 'extra cheese', 'green peppers']\n",
        "\n",
        "for requested_toppings in requested_toppings:\n",
        "    if requested_toppings == 'green peppers':\n",
        "        print('Sorry, we are out of green peppers right now!')\n",
        "    else:\n",
        "        print('Adding ' + requested_toppings + '.')\n",
        "\n",
        "print('\\nFinished making your pizza!')\n"
      ]
    },
    {
      "cell_type": "code",
      "execution_count": null,
      "metadata": {
        "colab": {
          "base_uri": "https://localhost:8080/"
        },
        "id": "s_0W3DsnUq02",
        "outputId": "65febd5a-a4db-4429-dca7-b8722f035cc1"
      },
      "outputs": [
        {
          "name": "stdout",
          "output_type": "stream",
          "text": [
            "Are you sure you want to make a plain pizza?\n"
          ]
        }
      ],
      "source": [
        "# Exercise 10 - Checking for a list that is empty\n",
        "# Indentatiton is very important!!!!\n",
        "requested_toppings = []\n",
        "\n",
        "if requested_toppings:\n",
        "    for requested_toppings in requested_toppings:\n",
        "        print('Adding ' + requested_toppings + '.' )\n",
        "        print('\\nFinished making your pizza!')\n",
        "else:\n",
        "    print('Are you sure you want to make a plain pizza?')\n"
      ]
    },
    {
      "cell_type": "code",
      "execution_count": null,
      "metadata": {
        "colab": {
          "base_uri": "https://localhost:8080/"
        },
        "id": "j4EyZ_3KhSAR",
        "outputId": "44a89677-81a7-4a44-f809-b684dc7688ef"
      },
      "outputs": [
        {
          "name": "stdout",
          "output_type": "stream",
          "text": [
            "Adding mushrooms.\n",
            "Sorry we dont have french fries.\n",
            "Adding extra cheese.\n",
            "Sorry we dont have crab meat.\n",
            "\n",
            "Finished making your pizza!\n"
          ]
        }
      ],
      "source": [
        "# Exercise 11 - Using multiple lists\n",
        "available_toppings = ['mushrooms', 'olives', 'green peppers', 'pepperoni',\n",
        "                      'pineapple', 'extra cheese']\n",
        "requested_toppings = ['mushrooms', 'french fries', 'extra cheese', 'crab meat']\n",
        "\n",
        "for requested_toppings in requested_toppings:\n",
        "    if requested_toppings in available_toppings:\n",
        "        print('Adding ' + requested_toppings + '.')\n",
        "    else:\n",
        "        print('Sorry we dont have ' + requested_toppings + '.' )\n",
        "\n",
        "\n",
        "print('\\nFinished making your pizza!')"
      ]
    },
    {
      "cell_type": "code",
      "execution_count": null,
      "metadata": {
        "colab": {
          "base_uri": "https://localhost:8080/"
        },
        "id": "DmUQQo0li7bg",
        "outputId": "711be6de-a01b-4fb7-c449-194b91ac9c70"
      },
      "outputs": [
        {
          "name": "stdout",
          "output_type": "stream",
          "text": [
            "green\n",
            "5\n"
          ]
        }
      ],
      "source": [
        "# Exercise 12 - Accessing the value using the key in dictionary\n",
        "alien_0 = {'color': 'green', 'points':5}\n",
        "\n",
        "# get the alien's color\n",
        "\n",
        "print(alien_0['color'])\n",
        "\n",
        "# get the alien's point\n",
        "\n",
        "print(alien_0['points'])\n"
      ]
    },
    {
      "cell_type": "code",
      "execution_count": null,
      "metadata": {
        "colab": {
          "base_uri": "https://localhost:8080/"
        },
        "id": "5_8LrHcsehIp",
        "outputId": "aad77b15-acfc-4b98-f076-0b5a99381353"
      },
      "outputs": [
        {
          "data": {
            "text/plain": [
              "{'color': 'green', 'points': 5}"
            ]
          },
          "execution_count": 127,
          "metadata": {},
          "output_type": "execute_result"
        }
      ],
      "source": [
        "# Getting back this alien_0 dictionary\n",
        "\n",
        "alien_0"
      ]
    },
    {
      "cell_type": "code",
      "execution_count": null,
      "metadata": {
        "id": "w1jfQOdDayLN"
      },
      "outputs": [],
      "source": [
        "# Start building the alien_0 dictionary from scratch\n",
        "alien_0={}\n",
        "alien_0['color'] = 'green'\n",
        "alien_0['points'] = 5"
      ]
    },
    {
      "cell_type": "code",
      "execution_count": null,
      "metadata": {
        "colab": {
          "base_uri": "https://localhost:8080/"
        },
        "id": "emud4BEneaVW",
        "outputId": "8b5eefda-3e7c-4537-dba5-9a675c71288f"
      },
      "outputs": [
        {
          "data": {
            "text/plain": [
              "{'color': 'green', 'points': 5}"
            ]
          },
          "execution_count": 67,
          "metadata": {},
          "output_type": "execute_result"
        }
      ],
      "source": [
        "alien_0"
      ]
    },
    {
      "cell_type": "code",
      "execution_count": null,
      "metadata": {
        "colab": {
          "base_uri": "https://localhost:8080/"
        },
        "id": "Dg5C29oafPu5",
        "outputId": "babba178-c5ff-4ce3-c2b3-6abe311e7034"
      },
      "outputs": [
        {
          "name": "stdout",
          "output_type": "stream",
          "text": [
            "You have just earn 5 points.\n"
          ]
        }
      ],
      "source": [
        "# Exercise 13 - extract the value from the dictionary\n",
        "# put in a variable called new_points\n",
        "# Print out the value\n",
        "alien_0 = {'color': 'green', 'points':5}\n",
        "new_points = alien_0['points']\n",
        "\n",
        "print('You have just earn '+ str(new_points) + ' points.')\n",
        "\n",
        "\n",
        "\n"
      ]
    },
    {
      "cell_type": "code",
      "execution_count": null,
      "metadata": {
        "colab": {
          "base_uri": "https://localhost:8080/"
        },
        "id": "aqLdYAec4UJi",
        "outputId": "2e200611-6a9c-4edd-b017-2f625207c76b"
      },
      "outputs": [
        {
          "name": "stdout",
          "output_type": "stream",
          "text": [
            "The alien is now Indigo.\n"
          ]
        }
      ],
      "source": [
        "# Exercise 14 - change the color value in the dictionary\n",
        "\n",
        "alien_0['color'] = 'Indigo'\n",
        "\n",
        "print('The alien is now ' + alien_0['color'] + '.')\n",
        "\n",
        "\n",
        "# Print out the new color\n"
      ]
    },
    {
      "cell_type": "code",
      "execution_count": null,
      "metadata": {
        "colab": {
          "base_uri": "https://localhost:8080/"
        },
        "id": "ctr4Qcu9hU9o",
        "outputId": "a4c72105-8a67-4ea9-ddff-e42fd424b5e0"
      },
      "outputs": [
        {
          "data": {
            "text/plain": [
              "{'color': 'green', 'points': 5}"
            ]
          },
          "execution_count": 142,
          "metadata": {},
          "output_type": "execute_result"
        }
      ],
      "source": [
        "alien_0"
      ]
    },
    {
      "cell_type": "code",
      "execution_count": null,
      "metadata": {
        "colab": {
          "base_uri": "https://localhost:8080/"
        },
        "id": "vfDw_r_L5jPz",
        "outputId": "f0f2c972-a1d0-4690-ab24-584d181c1bc4"
      },
      "outputs": [
        {
          "name": "stdout",
          "output_type": "stream",
          "text": [
            "{'x_position': 3, 'y_position': 25, 'speed': 'fast'}\n"
          ]
        }
      ],
      "source": [
        "# Exercise 15 - change the value in the dictionary; using if-elif-else statement\n",
        "alien_0 = {'x_position': 0, 'y_position': 25, 'speed': 'fast'}\n",
        "\n",
        "# Move the alien to the right.\n",
        "# Determine how far to move the alien based on its current speed.\n",
        "\n",
        "if alien_0['speed'] == 'slow':\n",
        "    alien_0['x_position'] = 1\n",
        "elif alien_0['speed'] == 'medium':\n",
        "    alien_0['x_position'] = 2\n",
        "elif alien_0['speed'] == 'fast':\n",
        "    alien_0['x_position'] = 3\n",
        "\n",
        "print(alien_0)\n",
        "# The new position is the old position plus the increment.\n"
      ]
    },
    {
      "cell_type": "code",
      "execution_count": null,
      "metadata": {
        "colab": {
          "base_uri": "https://localhost:8080/"
        },
        "id": "Nz8wunYFkV92",
        "outputId": "923fe8f0-cbc3-4e10-9df4-c75df76a0d11"
      },
      "outputs": [
        {
          "name": "stdout",
          "output_type": "stream",
          "text": [
            "{'x_position': 3, 'y_position': 25, 'speed': 'fast'}\n"
          ]
        }
      ],
      "source": [
        "alien_0 = {'x_position': 0, 'y_position': 25, 'speed': 'fast'}\n",
        "\n",
        "if alien_0['speed'] == 'slow':\n",
        "    x_increment = 1\n",
        "elif alien_0['speed'] == 'medium':\n",
        "    x_increment = 2\n",
        "elif alien_0['speed'] == 'fast':\n",
        "    x_increment = 3\n",
        "\n",
        "alien_0['x_position'] = alien_0['x_position'] + x_increment\n",
        "print('New x_position' + str(alien_0))"
      ]
    },
    {
      "cell_type": "code",
      "execution_count": null,
      "metadata": {
        "colab": {
          "base_uri": "https://localhost:8080/"
        },
        "id": "efbBa0SB6hlj",
        "outputId": "9ea336ab-fef7-4a63-857f-00d9e8a46204"
      },
      "outputs": [
        {
          "name": "stdout",
          "output_type": "stream",
          "text": [
            "{'color': 'green', 'points': 5}\n",
            "{'color': 'green'}\n"
          ]
        }
      ],
      "source": [
        "# Exercise 16 - using del() function\n",
        "alien_0 = {'color': 'green', 'points': 5}\n",
        "print(alien_0)\n",
        "\n",
        "# Delete the points from the dictionary\n",
        "del alien_0['points']\n",
        "print(alien_0)"
      ]
    },
    {
      "cell_type": "code",
      "execution_count": null,
      "metadata": {
        "colab": {
          "base_uri": "https://localhost:8080/"
        },
        "id": "KtsGcBJC8MBy",
        "outputId": "237cd84b-b4e2-4e39-c6a4-68cda03e35f5"
      },
      "outputs": [
        {
          "name": "stdout",
          "output_type": "stream",
          "text": [
            "Phil's favourite language is Python.\n"
          ]
        }
      ],
      "source": [
        "# Exercise 17 - break dictionary into several lines\n",
        "\n",
        "fav_prog = {\n",
        "    'jen':'python',\n",
        "    'sarah': 'c',\n",
        "    'edward':'ruby',\n",
        "    'phil':'python'\n",
        "}\n",
        "\n",
        "print(\"Phil's favourite language is \" + fav_prog['phil'].title() + '.')\n"
      ]
    },
    {
      "cell_type": "code",
      "execution_count": null,
      "metadata": {
        "colab": {
          "base_uri": "https://localhost:8080/"
        },
        "id": "piktzd1c9b7c",
        "outputId": "c6d0dc92-9584-4468-bc94-62942eb0f72c"
      },
      "outputs": [
        {
          "name": "stdout",
          "output_type": "stream",
          "text": [
            "Jen's fav language is Python\n",
            "Sarah's fav language is C\n",
            "Edward's fav language is Ruby\n",
            "Phil's fav language is Python\n"
          ]
        }
      ],
      "source": [
        "# Exercise 18 - print out the key-value pairs using item() function\n",
        "# using the for function\n",
        "\n",
        "for name, sub in fav_prog.items():\n",
        "    print(name.title() + \"'s fav language is \" + sub.title())\n",
        "\n",
        "\n",
        "\n"
      ]
    },
    {
      "cell_type": "code",
      "execution_count": null,
      "metadata": {
        "colab": {
          "base_uri": "https://localhost:8080/"
        },
        "id": "HDxDyGRj_LLh",
        "outputId": "e93c1c2b-6866-4d0c-c9a6-53d3a8c2b699"
      },
      "outputs": [
        {
          "name": "stdout",
          "output_type": "stream",
          "text": [
            "Hi Sarah your fav program is C!\n",
            "Hi Phil your fav program is Python!\n"
          ]
        }
      ],
      "source": [
        "# Exercise 19 - print out the key-value pairs using key() function\n",
        "favorite_languages = {\n",
        "    'jen': 'python',\n",
        "    'sarah': 'c',\n",
        "    'edward': 'ruby',\n",
        "    'phil': 'python',\n",
        "    }\n",
        "friends =['phil' , 'sarah']\n",
        "\n",
        "for name in fav_prog.keys():\n",
        "    if name in friends:\n",
        "        print(\"Hi \" + name.title() + \" your fav program is \" + fav_prog[name].title() + '!')"
      ]
    },
    {
      "cell_type": "code",
      "execution_count": null,
      "metadata": {
        "colab": {
          "base_uri": "https://localhost:8080/"
        },
        "id": "2SnKUKMEAA8t",
        "outputId": "71801b8b-a1af-4e7e-f107-1807cdcbec25"
      },
      "outputs": [
        {
          "name": "stdout",
          "output_type": "stream",
          "text": [
            "Aishah, please study hard!\n"
          ]
        }
      ],
      "source": [
        "# Exercise 20 - print out the key-value pairs using not in function\n",
        "favorite_languages = {\n",
        "    'jen': 'python',\n",
        "    'sarah': 'c',\n",
        "    'edward': 'ruby',\n",
        "    'phil': 'python',\n",
        "    }\n",
        "\n",
        "if 'aishah' not in fav_prog.keys():\n",
        "    print('Aishah, please study hard!')\n",
        "\n"
      ]
    },
    {
      "cell_type": "code",
      "execution_count": null,
      "metadata": {
        "colab": {
          "base_uri": "https://localhost:8080/"
        },
        "id": "6QBXlZM1Axk4",
        "outputId": "2bff7022-ac66-4718-cb1b-3cdf6d9b2561"
      },
      "outputs": [
        {
          "name": "stdout",
          "output_type": "stream",
          "text": [
            "Edward, thank you for taking poll\n",
            "Jen, thank you for taking poll\n",
            "Phil, thank you for taking poll\n",
            "Sarah, thank you for taking poll\n"
          ]
        }
      ],
      "source": [
        "# Exercise 21 - Sort keys in order\n",
        "# Print out the message thanking them to take the poll\n",
        "favorite_languages = {\n",
        "    'jen': 'python',\n",
        "    'sarah': 'c',\n",
        "    'edward': 'ruby',\n",
        "    'phil': 'python',\n",
        "    }\n",
        "# Create a for loop in this case\n",
        "# Use the sorted() to sort the keys names in alphabatical order\n",
        "# Print out the message thanking them to take the poll\n",
        "\n",
        "for name in sorted(favorite_languages.keys()):\n",
        "    print(name.title()+', thank you for taking poll')\n"
      ]
    },
    {
      "cell_type": "code",
      "execution_count": 13,
      "metadata": {
        "colab": {
          "base_uri": "https://localhost:8080/"
        },
        "id": "CGqvlY1-BQ55",
        "outputId": "6b71dfd6-1102-4b90-9aa0-8c4b73f91668"
      },
      "outputs": [
        {
          "output_type": "stream",
          "name": "stdout",
          "text": [
            "The following languages have been mentioned:\n",
            "Ruby\n",
            "Python\n",
            "C\n"
          ]
        }
      ],
      "source": [
        "# Exercise 22 - Sort values in order\n",
        "# remove redundant value using set() function\n",
        "favorite_languages = {\n",
        "    'jen': 'python',\n",
        "    'sarah': 'c',\n",
        "    'edward': 'ruby',\n",
        "    'phil': 'python',\n",
        "    }\n",
        "# Print a introductory message\n",
        "\n",
        "print(\"The following languages have been mentioned:\")\n",
        "\n",
        "# Create a for loop to print a message\n",
        "# Use sorted() function to sort the values in reverse alphabetical order\n",
        "# Use set() function to remove redundant values\n",
        "\n",
        "for language in sorted(set(favorite_languages.values()), reverse = True):\n",
        "    print(language.title())\n",
        "\n"
      ]
    },
    {
      "cell_type": "code",
      "source": [
        "#help(set)\n",
        "set?"
      ],
      "metadata": {
        "id": "faDSpCamNu5R"
      },
      "execution_count": null,
      "outputs": []
    },
    {
      "cell_type": "code",
      "execution_count": 15,
      "metadata": {
        "colab": {
          "base_uri": "https://localhost:8080/"
        },
        "id": "w6F-kzmTwbbC",
        "outputId": "c5279f19-a37d-46d2-9190-f667353e9c80"
      },
      "outputs": [
        {
          "output_type": "execute_result",
          "data": {
            "text/plain": [
              "range(0, 30)"
            ]
          },
          "metadata": {},
          "execution_count": 15
        }
      ],
      "source": [
        "range(30)\n"
      ]
    },
    {
      "cell_type": "code",
      "execution_count": 29,
      "metadata": {
        "id": "CrP6r-jvBzht",
        "colab": {
          "base_uri": "https://localhost:8080/"
        },
        "outputId": "674ffb8c-60cc-4a48-d071-0973e81d2f51"
      },
      "outputs": [
        {
          "output_type": "stream",
          "name": "stdout",
          "text": [
            "{'color': 'green', 'points': 5, 'speed': 'slow'}\n"
          ]
        }
      ],
      "source": [
        "# Exercise 23 - append new data into dictionary using function\n",
        "# Make an empty list for storing aliens.\n",
        "aliens = []\n",
        "\n",
        "# Create a for loop to make 30 green aliens\n",
        "# Store in a variable named new_alien\n",
        "# Using the append() function\n",
        "\n",
        "for alien_number in range(30):\n",
        "    new_alien = {'color' : 'green', 'points':5, 'speed':'slow'}\n",
        "    aliens.append(new_alien)\n",
        "\n",
        "# Create a for loop and if-elif statement\n",
        "for alien in aliens[0:3]:\n",
        "    if alien['color'] == 'green':\n",
        "        alien['color'] == 'yellow'\n",
        "        alien['speed'] == 'medium'\n",
        "        alien['points'] == 10\n",
        "    elif alien['color'] == 'yellow':\n",
        "        alien['color'] == 'red'\n",
        "        alien['speed'] == 'fast'\n",
        "        alien['points'] == 5\n",
        "print(alien)\n",
        "\n",
        "\n"
      ]
    },
    {
      "cell_type": "code",
      "source": [
        "# Show first 5 aliens using a for loop\n",
        "for alien in aliens[0:5]:\n",
        "    print(alien)\n",
        "\n",
        "# Show how many aliens have been created using the len() function\n",
        "\n",
        "print(\"Total number of aliens:\" + str(len(aliens)))"
      ],
      "metadata": {
        "id": "UpK088EjRIM6"
      },
      "execution_count": null,
      "outputs": []
    },
    {
      "cell_type": "code",
      "source": [
        "len(aliens)"
      ],
      "metadata": {
        "colab": {
          "base_uri": "https://localhost:8080/"
        },
        "id": "8EP8PNlrQhmY",
        "outputId": "f5cfd16a-19d6-4c9d-8392-6bd1d7b8861e"
      },
      "execution_count": 24,
      "outputs": [
        {
          "output_type": "execute_result",
          "data": {
            "text/plain": [
              "3"
            ]
          },
          "metadata": {},
          "execution_count": 24
        }
      ]
    },
    {
      "cell_type": "code",
      "execution_count": 39,
      "metadata": {
        "id": "iA-z9NxRDixp",
        "colab": {
          "base_uri": "https://localhost:8080/"
        },
        "outputId": "774c8e64-fd60-4b33-8087-8ac5f50ff33b"
      },
      "outputs": [
        {
          "output_type": "stream",
          "name": "stdout",
          "text": [
            "You ordered a thick pizza with the following toppings:\n",
            "\tmushrooms\n",
            "\textra cheese\n"
          ]
        }
      ],
      "source": [
        "# Exercise 24 - A list in the dictionary\n",
        "# Store information about a pizza being ordered.\n",
        "#(    ) -> tuple (cannot change)\n",
        "#{    } -> dictionary\n",
        "#[    ] -> list\n",
        "pizza = {\n",
        "    'crust': 'thick',\n",
        "    'toppings': ['mushrooms', 'extra cheese'],\n",
        "    }\n",
        "\n",
        "# Summarize the order\n",
        "# By having the following message printed out\n",
        "# Use print() and a for loop\n",
        "\n",
        "print(\"You ordered a \"+ pizza['crust']+' pizza with the following toppings:')\n",
        "\n",
        "for topping in pizza['toppings']:\n",
        "    print(\"\\t\" + topping)\n",
        "\n",
        "\n"
      ]
    },
    {
      "cell_type": "code",
      "execution_count": 53,
      "metadata": {
        "id": "q0MODSGDFsgU",
        "colab": {
          "base_uri": "https://localhost:8080/"
        },
        "outputId": "d438c95e-9139-448f-dfee-336655b560eb"
      },
      "outputs": [
        {
          "output_type": "stream",
          "name": "stdout",
          "text": [
            "Jen's favorite languages are:\n",
            "\tPython\n",
            "\tRuby\n",
            "Sarah's favorite languages are:\n",
            "\tC\n",
            "Edward's favorite languages are:\n",
            "\tRuby\n",
            "\tGo\n",
            "Phil's favorite languages are:\n",
            "\tPython\n",
            "\tHaskell\n"
          ]
        }
      ],
      "source": [
        "# Exercise 25 - a list in the dictionary\n",
        "favorite_languages = {\n",
        "    'jen': ['python', 'ruby'],\n",
        "    'sarah': ['c'],\n",
        "    'edward': ['ruby', 'go'],\n",
        "    'phil': ['python', 'haskell'],\n",
        "    }\n",
        "\n",
        "# Create two for loops to print a message\n",
        "# Use items() function to access the key-value pair in dictionary\n",
        "# Use the keyword in\n",
        "\n",
        "for name, languages in favorite_languages.items():\n",
        "    print(name.title() + \"'s favorite languages are:\")\n",
        "    for language in languages:\n",
        "        print(\"\\t\" + language.title())\n"
      ]
    },
    {
      "cell_type": "code",
      "execution_count": 63,
      "metadata": {
        "id": "wWibIDl0Gw2O",
        "colab": {
          "base_uri": "https://localhost:8080/"
        },
        "outputId": "4b1776fc-6f1b-4617-ea95-69e5e035b6c3"
      },
      "outputs": [
        {
          "output_type": "stream",
          "name": "stdout",
          "text": [
            "Username: Aeinstein\n",
            "\tFull name: Albert Einstein\n",
            "\tLocation: Princeton\n",
            "Username: Mcurie\n",
            "\tFull name: Marie Curie\n",
            "\tLocation: Paris\n"
          ]
        }
      ],
      "source": [
        "# Exercise 26 - A dictionary in a dictionary\n",
        "\n",
        "# Given the following famous scientists dictionary\n",
        "users = {\n",
        "    'aeinstein': {\n",
        "        'first': 'albert',\n",
        "        'last': 'einstein',\n",
        "        'location': 'princeton',\n",
        "        },\n",
        "    'mcurie': {\n",
        "        'first': 'marie',\n",
        "        'last': 'curie',\n",
        "        'location': 'paris',\n",
        "        },\n",
        "    }\n",
        "\n",
        "# Create a for loop to print the message\n",
        "# Use the items() function to access the key-value pairs in the dictionary\n",
        "\n",
        "for user, names in users.items():\n",
        "    print(\"Username: \" + user.title())\n",
        "    full_name = names['first']+ \" \"+ names['last']\n",
        "    location = names['location']\n",
        "\n",
        "    print(\"\\tFull name: \"+ full_name.title())\n",
        "    print(\"\\tLocation: \" + location.title())\n"
      ]
    },
    {
      "cell_type": "code",
      "execution_count": 64,
      "metadata": {
        "id": "xY2CS0_CIEqr",
        "colab": {
          "base_uri": "https://localhost:8080/",
          "height": 390
        },
        "outputId": "b6ddf52e-2702-4d4b-a043-987ed480e79e"
      },
      "outputs": [
        {
          "output_type": "error",
          "ename": "KeyboardInterrupt",
          "evalue": "ignored",
          "traceback": [
            "\u001b[0;31m---------------------------------------------------------------------------\u001b[0m",
            "\u001b[0;31mKeyboardInterrupt\u001b[0m                         Traceback (most recent call last)",
            "\u001b[0;32m<ipython-input-64-024a9111a632>\u001b[0m in \u001b[0;36m<cell line: 4>\u001b[0;34m()\u001b[0m\n\u001b[1;32m      2\u001b[0m \u001b[0;31m# Use the input() function to get a response from user\u001b[0m\u001b[0;34m\u001b[0m\u001b[0;34m\u001b[0m\u001b[0m\n\u001b[1;32m      3\u001b[0m \u001b[0;31m# Print out the message\u001b[0m\u001b[0;34m\u001b[0m\u001b[0;34m\u001b[0m\u001b[0m\n\u001b[0;32m----> 4\u001b[0;31m \u001b[0mmessage\u001b[0m \u001b[0;34m=\u001b[0m \u001b[0minput\u001b[0m\u001b[0;34m(\u001b[0m\u001b[0;34m\"Tell me something, and I will repeat it back to you: \"\u001b[0m\u001b[0;34m)\u001b[0m\u001b[0;34m\u001b[0m\u001b[0;34m\u001b[0m\u001b[0m\n\u001b[0m\u001b[1;32m      5\u001b[0m \u001b[0mprint\u001b[0m\u001b[0;34m(\u001b[0m\u001b[0mmessage\u001b[0m\u001b[0;34m)\u001b[0m\u001b[0;34m\u001b[0m\u001b[0;34m\u001b[0m\u001b[0m\n\u001b[1;32m      6\u001b[0m \u001b[0;34m\u001b[0m\u001b[0m\n",
            "\u001b[0;32m/usr/local/lib/python3.10/dist-packages/ipykernel/kernelbase.py\u001b[0m in \u001b[0;36mraw_input\u001b[0;34m(self, prompt)\u001b[0m\n\u001b[1;32m    849\u001b[0m                 \u001b[0;34m\"raw_input was called, but this frontend does not support input requests.\"\u001b[0m\u001b[0;34m\u001b[0m\u001b[0;34m\u001b[0m\u001b[0m\n\u001b[1;32m    850\u001b[0m             )\n\u001b[0;32m--> 851\u001b[0;31m         return self._input_request(str(prompt),\n\u001b[0m\u001b[1;32m    852\u001b[0m             \u001b[0mself\u001b[0m\u001b[0;34m.\u001b[0m\u001b[0m_parent_ident\u001b[0m\u001b[0;34m,\u001b[0m\u001b[0;34m\u001b[0m\u001b[0;34m\u001b[0m\u001b[0m\n\u001b[1;32m    853\u001b[0m             \u001b[0mself\u001b[0m\u001b[0;34m.\u001b[0m\u001b[0m_parent_header\u001b[0m\u001b[0;34m,\u001b[0m\u001b[0;34m\u001b[0m\u001b[0;34m\u001b[0m\u001b[0m\n",
            "\u001b[0;32m/usr/local/lib/python3.10/dist-packages/ipykernel/kernelbase.py\u001b[0m in \u001b[0;36m_input_request\u001b[0;34m(self, prompt, ident, parent, password)\u001b[0m\n\u001b[1;32m    893\u001b[0m             \u001b[0;32mexcept\u001b[0m \u001b[0mKeyboardInterrupt\u001b[0m\u001b[0;34m:\u001b[0m\u001b[0;34m\u001b[0m\u001b[0;34m\u001b[0m\u001b[0m\n\u001b[1;32m    894\u001b[0m                 \u001b[0;31m# re-raise KeyboardInterrupt, to truncate traceback\u001b[0m\u001b[0;34m\u001b[0m\u001b[0;34m\u001b[0m\u001b[0m\n\u001b[0;32m--> 895\u001b[0;31m                 \u001b[0;32mraise\u001b[0m \u001b[0mKeyboardInterrupt\u001b[0m\u001b[0;34m(\u001b[0m\u001b[0;34m\"Interrupted by user\"\u001b[0m\u001b[0;34m)\u001b[0m \u001b[0;32mfrom\u001b[0m \u001b[0;32mNone\u001b[0m\u001b[0;34m\u001b[0m\u001b[0;34m\u001b[0m\u001b[0m\n\u001b[0m\u001b[1;32m    896\u001b[0m             \u001b[0;32mexcept\u001b[0m \u001b[0mException\u001b[0m \u001b[0;32mas\u001b[0m \u001b[0me\u001b[0m\u001b[0;34m:\u001b[0m\u001b[0;34m\u001b[0m\u001b[0;34m\u001b[0m\u001b[0m\n\u001b[1;32m    897\u001b[0m                 \u001b[0mself\u001b[0m\u001b[0;34m.\u001b[0m\u001b[0mlog\u001b[0m\u001b[0;34m.\u001b[0m\u001b[0mwarning\u001b[0m\u001b[0;34m(\u001b[0m\u001b[0;34m\"Invalid Message:\"\u001b[0m\u001b[0;34m,\u001b[0m \u001b[0mexc_info\u001b[0m\u001b[0;34m=\u001b[0m\u001b[0;32mTrue\u001b[0m\u001b[0;34m)\u001b[0m\u001b[0;34m\u001b[0m\u001b[0;34m\u001b[0m\u001b[0m\n",
            "\u001b[0;31mKeyboardInterrupt\u001b[0m: Interrupted by user"
          ]
        }
      ],
      "source": [
        "# Exercise 27 - using input()\n",
        "# Use the input() function to get a response from user\n",
        "# Print out the message\n",
        "message = input(\"Tell me something, and I will repeat it back to you: \")\n",
        "print(message)\n",
        "\n",
        "# Use the input() function to get user's name\n",
        "# print out the message\n",
        "\n",
        "# Use the input() function to get user's first name\n",
        "# print out the message\n",
        "\n",
        "\n"
      ]
    },
    {
      "cell_type": "code",
      "execution_count": null,
      "metadata": {
        "id": "uWq2dvg3JR6c"
      },
      "outputs": [],
      "source": [
        "# Exercise 28 - using int() to accept numerical input: True of False\n"
      ]
    },
    {
      "cell_type": "code",
      "execution_count": null,
      "metadata": {
        "id": "XR0IMpnzK7Ne"
      },
      "outputs": [],
      "source": [
        "# Exercise 29 - using int()to accept numerical input and check for certain condition\n"
      ]
    },
    {
      "cell_type": "code",
      "execution_count": null,
      "metadata": {
        "id": "x9OlZPDYL2ne"
      },
      "outputs": [],
      "source": [
        "# Exercise 30 - The modulo operator to print message\n"
      ]
    }
  ],
  "metadata": {
    "colab": {
      "provenance": [],
      "include_colab_link": true
    },
    "kernelspec": {
      "display_name": "Python 3",
      "name": "python3"
    },
    "language_info": {
      "name": "python"
    }
  },
  "nbformat": 4,
  "nbformat_minor": 0
}