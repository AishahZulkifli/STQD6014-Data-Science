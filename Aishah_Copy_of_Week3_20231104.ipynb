{
  "nbformat": 4,
  "nbformat_minor": 0,
  "metadata": {
    "colab": {
      "provenance": [],
      "include_colab_link": true
    },
    "kernelspec": {
      "name": "python3",
      "display_name": "Python 3"
    },
    "language_info": {
      "name": "python"
    }
  },
  "cells": [
    {
      "cell_type": "markdown",
      "metadata": {
        "id": "view-in-github",
        "colab_type": "text"
      },
      "source": [
        "<a href=\"https://colab.research.google.com/github/AishahZulkifli/STQD6014-Data-Science/blob/main/Aishah_Copy_of_Week3_20231104.ipynb\" target=\"_parent\"><img src=\"https://colab.research.google.com/assets/colab-badge.svg\" alt=\"Open In Colab\"/></a>"
      ]
    },
    {
      "cell_type": "markdown",
      "source": [
        "# **Week 03: If Statement**"
      ],
      "metadata": {
        "id": "wAJzPiuPfytH"
      }
    },
    {
      "cell_type": "code",
      "execution_count": null,
      "metadata": {
        "id": "K3kRlxvX6A7L",
        "colab": {
          "base_uri": "https://localhost:8080/"
        },
        "outputId": "eb962b52-de38-47c6-e701-abd4f209073e"
      },
      "outputs": [
        {
          "output_type": "stream",
          "name": "stdout",
          "text": [
            "Audi\n",
            "BMW\n",
            "Subaru\n",
            "Toyota\n"
          ]
        }
      ],
      "source": [
        "# Exercise 1\n",
        "cars = ['audi', 'bmw', 'subaru', 'toyota']\n",
        "\n",
        "for i in cars:\n",
        "    if i =='bmw':\n",
        "       print(i.upper())\n",
        "    else:\n",
        "       print(i.title())"
      ]
    },
    {
      "cell_type": "code",
      "source": [
        "# Exercise 2\n",
        "requested_topping = 'anchovies'\n",
        "\n",
        "if requested_topping != 'anchovies':\n",
        "    print('Hold the anchovies')\n",
        "else:\n",
        "    print('Aishah, please serve the anchovies fast!!!!')\n"
      ],
      "metadata": {
        "id": "fviS0BYz8fUO",
        "colab": {
          "base_uri": "https://localhost:8080/"
        },
        "outputId": "5efd8d56-74be-4a46-e25b-95dc6117dcec"
      },
      "execution_count": null,
      "outputs": [
        {
          "output_type": "stream",
          "name": "stdout",
          "text": [
            "Aishah, please serve the anchovies fast!!!!\n"
          ]
        }
      ]
    },
    {
      "cell_type": "code",
      "source": [
        "requested_topping = 'cheese'\n",
        "\n",
        "if requested_topping != 'anchovies':\n",
        "    print('Hold the anchovies')\n",
        "else:\n",
        "    print('Aishah, please serve the anchovies fast!!!!')"
      ],
      "metadata": {
        "colab": {
          "base_uri": "https://localhost:8080/"
        },
        "id": "gxiACIFZHNds",
        "outputId": "bb85eeab-d3ea-427a-8e8d-a656e3c11c2f"
      },
      "execution_count": null,
      "outputs": [
        {
          "output_type": "stream",
          "name": "stdout",
          "text": [
            "Hold the anchovies\n"
          ]
        }
      ]
    },
    {
      "cell_type": "code",
      "source": [
        "# Exercise 3\n",
        "age_0 = 22\n",
        "age_1 = 18\n",
        "\n"
      ],
      "metadata": {
        "id": "hV59aeSw8uSF"
      },
      "execution_count": null,
      "outputs": []
    },
    {
      "cell_type": "code",
      "source": [
        "# Checking using different condition\n",
        "# age_0 < 21 and age_1 < 21 - FALSE\n",
        "# age_0 < 21 or age_1 < 21 - TRUE\n",
        "# age_0 >= 21 and age_1 >= 21 - FALSE\n",
        "# age_0 >= 21 or age_1 >= 21 - TRUE\n",
        "# age_0 >= 21 and age_1 >= 21 - TRUE\n"
      ],
      "metadata": {
        "id": "69W0k1_NgKOS"
      },
      "execution_count": null,
      "outputs": []
    },
    {
      "cell_type": "code",
      "source": [
        "A = age_0 < 21 and age_1 < 21\n",
        "B = age_0 < 21 or age_1 < 21\n",
        "C = age_0 >= 21 and age_1 >= 21\n",
        "D = age_0 >= 21 or age_1 >= 21\n",
        "E = age_0 >= 21 and age_1 >= 2\n",
        "\n",
        "print(A,B,C,D,E)"
      ],
      "metadata": {
        "colab": {
          "base_uri": "https://localhost:8080/"
        },
        "id": "tIRkHXIeIBKd",
        "outputId": "3231b24e-a211-4fc8-9bbf-acf1c6775a8c"
      },
      "execution_count": null,
      "outputs": [
        {
          "output_type": "stream",
          "name": "stdout",
          "text": [
            "False True False True True\n"
          ]
        }
      ]
    },
    {
      "cell_type": "markdown",
      "source": [
        "# **A point of ponder :)**"
      ],
      "metadata": {
        "id": "Wk6VCX9djopY"
      }
    },
    {
      "cell_type": "code",
      "source": [
        "# What would the following code evaluate to? True or False?\n",
        "# and why?\n",
        "age_0 and age_1 < 21"
      ],
      "metadata": {
        "id": "9xZGmLTVkHlh",
        "colab": {
          "base_uri": "https://localhost:8080/"
        },
        "outputId": "a88049e0-a527-4cc3-9276-701d4f68e156"
      },
      "execution_count": null,
      "outputs": [
        {
          "output_type": "execute_result",
          "data": {
            "text/plain": [
              "True"
            ]
          },
          "metadata": {},
          "execution_count": 21
        }
      ]
    },
    {
      "cell_type": "code",
      "source": [
        "# Exercise 4 - using the keyword 'in'\n",
        "requested_topping = ['mushrooms', 'onions', 'pineapple']\n",
        "\n",
        "# Check whether mushrooms is in the topping list\n",
        "#Case sensitive\n",
        "'mushrooms' in requested_topping\n",
        "\n",
        "# Check whether pepperoni is in the topping list\n",
        "'pepperoni' in requested_topping\n",
        "\n"
      ],
      "metadata": {
        "id": "z5wPseRl-VyI",
        "colab": {
          "base_uri": "https://localhost:8080/"
        },
        "outputId": "a8cf1ba1-5236-43a3-eb83-3a8a69226e26"
      },
      "execution_count": null,
      "outputs": [
        {
          "output_type": "execute_result",
          "data": {
            "text/plain": [
              "False"
            ]
          },
          "metadata": {},
          "execution_count": 25
        }
      ]
    },
    {
      "cell_type": "code",
      "source": [
        "# Exercise 5\n",
        "banned_users = ['andrew', 'carolina', 'david']\n",
        "\n",
        "# Check whether marie, 007 and andrew is in the banned user list\n",
        "# user = 'marie'\n",
        "\n",
        "user = 7\n",
        "if user not in banned_users:\n",
        "    print (str(user) +', you can post a response if you wish.')\n",
        "\n",
        "\n",
        "#user = 'andrew'\n"
      ],
      "metadata": {
        "id": "RWb1iy4I-eFb",
        "colab": {
          "base_uri": "https://localhost:8080/"
        },
        "outputId": "3392ee92-fbd5-4d37-888a-661d51d551b2"
      },
      "execution_count": null,
      "outputs": [
        {
          "output_type": "stream",
          "name": "stdout",
          "text": [
            "7, you can post a response if you wish.\n"
          ]
        }
      ]
    },
    {
      "cell_type": "code",
      "source": [
        "# Try it yourself\n",
        "# Try making sense of it\n",
        "car = 'subaru'\n",
        "print(\"Is car == 'subaru'? I predict True.\")\n",
        "print(car == \"subaru\") #this is a logical comparison; not printing string\n",
        "\n",
        "print(\"\\nIs car == 'audi'? I predict False\")\n",
        "print(car == 'audi')"
      ],
      "metadata": {
        "id": "Usq-CnrjCi71",
        "colab": {
          "base_uri": "https://localhost:8080/"
        },
        "outputId": "6a9a09e1-9d65-4047-9d08-da499c701691"
      },
      "execution_count": null,
      "outputs": [
        {
          "output_type": "stream",
          "name": "stdout",
          "text": [
            "Is car == 'subaru'? I predict True.\n",
            "True\n",
            "\n",
            "Is car == 'audi'? I predict False\n",
            "False\n"
          ]
        }
      ]
    },
    {
      "cell_type": "code",
      "source": [
        "# If statement\n",
        "age = 17\n",
        "\n",
        "if age >= 18:\n",
        "  print('You are old enough to vote!')\n",
        "  print('Have you registered to vote yet?')\n",
        "  print('Oh ya, tak yah register pun')\n",
        "else:\n",
        "  print(\"Too bad...You would have to wait for GE17\")\n"
      ],
      "metadata": {
        "id": "BN5LXsVWDN_b",
        "colab": {
          "base_uri": "https://localhost:8080/"
        },
        "outputId": "137e3007-93ea-4199-ed36-186b24734788"
      },
      "execution_count": null,
      "outputs": [
        {
          "output_type": "stream",
          "name": "stdout",
          "text": [
            "Too bad...You would have to wait for GE17\n"
          ]
        }
      ]
    },
    {
      "cell_type": "code",
      "source": [
        "# Given the if-elif-else statement\n",
        "age = 9\n",
        "if age < 4:\n",
        "    print(\"Your admission rate is RM0.\")\n",
        "elif age < 18:\n",
        "    print(\"Your admission rate is RM5.\")\n",
        "else:\n",
        "    print(\"Your admission rate is RM10.\")"
      ],
      "metadata": {
        "colab": {
          "base_uri": "https://localhost:8080/"
        },
        "id": "5lNf9lMgEO4H",
        "outputId": "6aa4e3a0-ebeb-4d04-d610-8e9770aaecdd"
      },
      "execution_count": 54,
      "outputs": [
        {
          "output_type": "stream",
          "name": "stdout",
          "text": [
            "Your admission rate is RM5.\n"
          ]
        }
      ]
    },
    {
      "cell_type": "code",
      "source": [
        "# Exercise 6 - Revising the previous code for a cleaner version\n",
        "age = 67\n",
        "user = 'andrew'\n",
        "\n",
        "if age < 4:\n",
        "    rate = 0\n",
        "elif age < 18:\n",
        "    rate = 5\n",
        "elif age < 65:\n",
        "    rate = 10\n",
        "else:\n",
        "    rate = 5\n",
        "\n",
        "print('Your admission rate is RM'+ str(rate) +', ' + user.title() + '.')\n",
        "\n"
      ],
      "metadata": {
        "id": "litAhuvSGR6l",
        "colab": {
          "base_uri": "https://localhost:8080/"
        },
        "outputId": "c251b207-1449-4521-d87a-3960c01b3f5c"
      },
      "execution_count": 71,
      "outputs": [
        {
          "output_type": "stream",
          "name": "stdout",
          "text": [
            "Your admission rate is RM5, Andrew.\n"
          ]
        }
      ]
    },
    {
      "cell_type": "code",
      "source": [
        "# Exercise 7 - end the code using elif for easier interpretation\n",
        "age = 67\n",
        "\n",
        "if age < 4:\n",
        "    rate = 0\n",
        "elif age < 18:\n",
        "    rate = 5\n",
        "elif age < 65:\n",
        "    rate = 10\n",
        "elif age >= 65:\n",
        "    rate = 5\n",
        "\n",
        "print('Your admission rate is RM'+ str(rate) +', ' + user.title() + '.')\n"
      ],
      "metadata": {
        "id": "T6AvirgKHEWz",
        "colab": {
          "base_uri": "https://localhost:8080/"
        },
        "outputId": "b54a69c1-503b-4b65-c84d-a47be4b10bf3"
      },
      "execution_count": 73,
      "outputs": [
        {
          "output_type": "stream",
          "name": "stdout",
          "text": [
            "Your admission rate is RM5, Andrew.\n"
          ]
        }
      ]
    },
    {
      "cell_type": "code",
      "source": [
        "# Exercise 8 - multiple if\n",
        "requested_topping = ['mushrooms', 'extra cheese']\n",
        "\n",
        "if 'mushrooms' in requested_topping:\n",
        "    print('Adding mushrooms')\n",
        "if 'peperoni' in requested_topping:\n",
        "    print('Adding peperoni')\n",
        "if 'extra cheese' in requested_topping:\n",
        "    print('Adding extra cheese')\n",
        "\n",
        "print('\\nFinished making your pizza!!!!')\n"
      ],
      "metadata": {
        "id": "FUPOtDHjXZAr",
        "colab": {
          "base_uri": "https://localhost:8080/"
        },
        "outputId": "6f78c927-f098-4cbf-fd21-583827d34d35"
      },
      "execution_count": 83,
      "outputs": [
        {
          "output_type": "stream",
          "name": "stdout",
          "text": [
            "Adding mushrooms\n",
            "Adding extra cheese\n",
            "\n",
            "Finished making your pizza!!!!\n"
          ]
        }
      ]
    },
    {
      "cell_type": "code",
      "source": [
        "# Exercise 9 - To check for special conditions / items\n",
        "requested_toppings = ['mushrooms', 'extra cheese', 'green peppers']\n",
        "\n",
        "for requested_toppings in requested_toppings:\n",
        "    if requested_toppings == 'green peppers':\n",
        "        print('Sorry, we are out of green peppers right now!')\n",
        "    else:\n",
        "        print('Adding ' + requested_toppings + '.')\n",
        "\n",
        "print('\\nFinished making your pizza!')\n"
      ],
      "metadata": {
        "id": "sy9baNJxYusX",
        "colab": {
          "base_uri": "https://localhost:8080/"
        },
        "outputId": "bf730865-c025-4420-8622-e8d28e549b97"
      },
      "execution_count": 85,
      "outputs": [
        {
          "output_type": "stream",
          "name": "stdout",
          "text": [
            "Adding mushrooms.\n",
            "Adding extra cheese.\n",
            "Sorry, we are out of green peppers right now!\n",
            "\n",
            "Finished making your pizza!\n"
          ]
        }
      ]
    },
    {
      "cell_type": "code",
      "source": [
        "# Exercise 10 - Checking for a list that is empty\n",
        "# Indentatiton is very important!!!!\n",
        "requested_toppings = []\n",
        "\n",
        "if requested_toppings:\n",
        "    for requested_toppings in requested_toppings:\n",
        "        print('Adding ' + requested_toppings + '.' )\n",
        "        print('\\nFinished making your pizza!')\n",
        "else:\n",
        "    print('Are you sure you want to make a plain pizza?')\n"
      ],
      "metadata": {
        "id": "s_0W3DsnUq02",
        "colab": {
          "base_uri": "https://localhost:8080/"
        },
        "outputId": "65febd5a-a4db-4429-dca7-b8722f035cc1"
      },
      "execution_count": 95,
      "outputs": [
        {
          "output_type": "stream",
          "name": "stdout",
          "text": [
            "Are you sure you want to make a plain pizza?\n"
          ]
        }
      ]
    },
    {
      "cell_type": "code",
      "source": [
        "# Exercise 11 - Using multiple lists\n",
        "available_toppings = ['mushrooms', 'olives', 'green peppers', 'pepperoni',\n",
        "                      'pineapple', 'extra cheese']\n",
        "requested_toppings = ['mushrooms', 'french fries', 'extra cheese', 'crab meat']\n",
        "\n",
        "for requested_toppings in requested_toppings:\n",
        "    if requested_toppings in available_toppings:\n",
        "        print('Adding ' + requested_toppings + '.')\n",
        "    else:\n",
        "        print('Sorry we dont have ' + requested_toppings + '.' )\n",
        "\n",
        "\n",
        "print('\\nFinished making your pizza!')"
      ],
      "metadata": {
        "id": "j4EyZ_3KhSAR",
        "colab": {
          "base_uri": "https://localhost:8080/"
        },
        "outputId": "44a89677-81a7-4a44-f809-b684dc7688ef"
      },
      "execution_count": 109,
      "outputs": [
        {
          "output_type": "stream",
          "name": "stdout",
          "text": [
            "Adding mushrooms.\n",
            "Sorry we dont have french fries.\n",
            "Adding extra cheese.\n",
            "Sorry we dont have crab meat.\n",
            "\n",
            "Finished making your pizza!\n"
          ]
        }
      ]
    },
    {
      "cell_type": "code",
      "source": [
        "# Exercise 12 - Accessing the value using the key in dictionary\n",
        "alien_0 = {'color': 'green', 'points':5}\n",
        "\n",
        "# get the alien's color\n",
        "\n",
        "print(alien_0['color'])\n",
        "\n",
        "# get the alien's point\n",
        "\n",
        "print(alien_0['points'])\n"
      ],
      "metadata": {
        "id": "DmUQQo0li7bg",
        "colab": {
          "base_uri": "https://localhost:8080/"
        },
        "outputId": "711be6de-a01b-4fb7-c449-194b91ac9c70"
      },
      "execution_count": 126,
      "outputs": [
        {
          "output_type": "stream",
          "name": "stdout",
          "text": [
            "green\n",
            "5\n"
          ]
        }
      ]
    },
    {
      "cell_type": "code",
      "source": [
        "# Getting back this alien_0 dictionary\n",
        "\n",
        "alien_0"
      ],
      "metadata": {
        "colab": {
          "base_uri": "https://localhost:8080/"
        },
        "id": "5_8LrHcsehIp",
        "outputId": "aad77b15-acfc-4b98-f076-0b5a99381353"
      },
      "execution_count": 127,
      "outputs": [
        {
          "output_type": "execute_result",
          "data": {
            "text/plain": [
              "{'color': 'green', 'points': 5}"
            ]
          },
          "metadata": {},
          "execution_count": 127
        }
      ]
    },
    {
      "cell_type": "code",
      "source": [
        "# Start building the alien_0 dictionary from scratch\n",
        "alien_0={}\n",
        "alien_0['color'] = 'green'\n",
        "alien_0['points'] = 5"
      ],
      "metadata": {
        "id": "w1jfQOdDayLN"
      },
      "execution_count": 129,
      "outputs": []
    },
    {
      "cell_type": "code",
      "source": [
        "alien_0"
      ],
      "metadata": {
        "colab": {
          "base_uri": "https://localhost:8080/"
        },
        "id": "emud4BEneaVW",
        "outputId": "8b5eefda-3e7c-4537-dba5-9a675c71288f"
      },
      "execution_count": null,
      "outputs": [
        {
          "output_type": "execute_result",
          "data": {
            "text/plain": [
              "{'color': 'green', 'points': 5}"
            ]
          },
          "metadata": {},
          "execution_count": 67
        }
      ]
    },
    {
      "cell_type": "code",
      "source": [
        "# Exercise 13 - extract the value from the dictionary\n",
        "# put in a variable called new_points\n",
        "# Print out the value\n",
        "alien_0 = {'color': 'green', 'points':5}\n",
        "new_points = alien_0['points']\n",
        "\n",
        "print('You have just earn '+ str(new_points) + ' points.')\n",
        "\n",
        "\n",
        "\n"
      ],
      "metadata": {
        "id": "Dg5C29oafPu5",
        "colab": {
          "base_uri": "https://localhost:8080/"
        },
        "outputId": "babba178-c5ff-4ce3-c2b3-6abe311e7034"
      },
      "execution_count": 138,
      "outputs": [
        {
          "output_type": "stream",
          "name": "stdout",
          "text": [
            "You have just earn 5 points.\n"
          ]
        }
      ]
    },
    {
      "cell_type": "code",
      "source": [
        "# Exercise 14 - change the color value in the dictionary\n",
        "\n",
        "alien_0['color'] = 'Indigo'\n",
        "\n",
        "print('The alien is now ' + alien_0['color'] + '.')\n",
        "\n",
        "\n",
        "# Print out the new color\n"
      ],
      "metadata": {
        "id": "aqLdYAec4UJi",
        "colab": {
          "base_uri": "https://localhost:8080/"
        },
        "outputId": "2e200611-6a9c-4edd-b017-2f625207c76b"
      },
      "execution_count": 145,
      "outputs": [
        {
          "output_type": "stream",
          "name": "stdout",
          "text": [
            "The alien is now Indigo.\n"
          ]
        }
      ]
    },
    {
      "cell_type": "code",
      "source": [
        "alien_0"
      ],
      "metadata": {
        "colab": {
          "base_uri": "https://localhost:8080/"
        },
        "id": "ctr4Qcu9hU9o",
        "outputId": "a4c72105-8a67-4ea9-ddff-e42fd424b5e0"
      },
      "execution_count": 142,
      "outputs": [
        {
          "output_type": "execute_result",
          "data": {
            "text/plain": [
              "{'color': 'green', 'points': 5}"
            ]
          },
          "metadata": {},
          "execution_count": 142
        }
      ]
    },
    {
      "cell_type": "code",
      "source": [
        "# Exercise 15 - change the value in the dictionary; using if-elif-else statement\n",
        "alien_0 = {'x_position': 0, 'y_position': 25, 'speed': 'fast'}\n",
        "\n",
        "# Move the alien to the right.\n",
        "# Determine how far to move the alien based on its current speed.\n",
        "\n",
        "if alien_0['speed'] == 'slow':\n",
        "    alien_0['x_position'] = 1\n",
        "elif alien_0['speed'] == 'medium':\n",
        "    alien_0['x_position'] = 2\n",
        "elif alien_0['speed'] == 'fast':\n",
        "    alien_0['x_position'] = 3\n",
        "\n",
        "print(alien_0)\n",
        "# The new position is the old position plus the increment.\n"
      ],
      "metadata": {
        "id": "vfDw_r_L5jPz",
        "colab": {
          "base_uri": "https://localhost:8080/"
        },
        "outputId": "f0f2c972-a1d0-4690-ab24-584d181c1bc4"
      },
      "execution_count": 152,
      "outputs": [
        {
          "output_type": "stream",
          "name": "stdout",
          "text": [
            "{'x_position': 3, 'y_position': 25, 'speed': 'fast'}\n"
          ]
        }
      ]
    },
    {
      "cell_type": "code",
      "source": [
        "alien_0 = {'x_position': 0, 'y_position': 25, 'speed': 'fast'}\n",
        "\n",
        "if alien_0['speed'] == 'slow':\n",
        "    x_increment = 1\n",
        "elif alien_0['speed'] == 'medium':\n",
        "    x_increment = 2\n",
        "elif alien_0['speed'] == 'fast':\n",
        "    x_increment = 3\n",
        "\n",
        "alien_0['x_position'] = alien_0['x_position'] + x_increment\n",
        "print('New x_position' + str(alien_0))"
      ],
      "metadata": {
        "colab": {
          "base_uri": "https://localhost:8080/"
        },
        "id": "Nz8wunYFkV92",
        "outputId": "923fe8f0-cbc3-4e10-9df4-c75df76a0d11"
      },
      "execution_count": 154,
      "outputs": [
        {
          "output_type": "stream",
          "name": "stdout",
          "text": [
            "{'x_position': 3, 'y_position': 25, 'speed': 'fast'}\n"
          ]
        }
      ]
    },
    {
      "cell_type": "code",
      "source": [
        "# Exercise 16 - using del() function\n",
        "alien_0 = {'color': 'green', 'points': 5}\n",
        "print(alien_0)\n",
        "\n",
        "# Delete the points from the dictionary\n",
        "del alien_0['points']\n",
        "print(alien_0)"
      ],
      "metadata": {
        "id": "efbBa0SB6hlj",
        "colab": {
          "base_uri": "https://localhost:8080/"
        },
        "outputId": "9ea336ab-fef7-4a63-857f-00d9e8a46204"
      },
      "execution_count": 156,
      "outputs": [
        {
          "output_type": "stream",
          "name": "stdout",
          "text": [
            "{'color': 'green', 'points': 5}\n",
            "{'color': 'green'}\n"
          ]
        }
      ]
    },
    {
      "cell_type": "code",
      "source": [
        "# Exercise 17 - break dictionary into several lines\n",
        "\n",
        "fav_prog = {\n",
        "    'jen':'python',\n",
        "    'sarah': 'c',\n",
        "    'edward':'ruby',\n",
        "    'phil':'python'\n",
        "}\n",
        "\n",
        "print(\"Phil's favourite language is \" + fav_prog['phil'].title() + '.')\n"
      ],
      "metadata": {
        "id": "KtsGcBJC8MBy",
        "colab": {
          "base_uri": "https://localhost:8080/"
        },
        "outputId": "237cd84b-b4e2-4e39-c6a4-68cda03e35f5"
      },
      "execution_count": 163,
      "outputs": [
        {
          "output_type": "stream",
          "name": "stdout",
          "text": [
            "Phil's favourite language is Python.\n"
          ]
        }
      ]
    },
    {
      "cell_type": "code",
      "source": [
        "# Exercise 18 - print out the key-value pairs using item() function\n",
        "# using the for function\n",
        "\n",
        "for name, sub in fav_prog.items():\n",
        "    print(name.title() + \"'s fav language is \" + sub.title())\n",
        "\n",
        "\n",
        "\n"
      ],
      "metadata": {
        "colab": {
          "base_uri": "https://localhost:8080/"
        },
        "id": "piktzd1c9b7c",
        "outputId": "c6d0dc92-9584-4468-bc94-62942eb0f72c"
      },
      "execution_count": 172,
      "outputs": [
        {
          "output_type": "stream",
          "name": "stdout",
          "text": [
            "Jen's fav language is Python\n",
            "Sarah's fav language is C\n",
            "Edward's fav language is Ruby\n",
            "Phil's fav language is Python\n"
          ]
        }
      ]
    },
    {
      "cell_type": "code",
      "source": [
        "# Exercise 19 - print out the key-value pairs using key() function\n",
        "favorite_languages = {\n",
        "    'jen': 'python',\n",
        "    'sarah': 'c',\n",
        "    'edward': 'ruby',\n",
        "    'phil': 'python',\n",
        "    }\n",
        "friends =['phil' , 'sarah']\n",
        "\n",
        "for name in fav_prog.keys():\n",
        "    if name in friends:\n",
        "        print(\"Hi \" + name.title() + \" your fav program is \" + fav_prog[name].title() + '!')"
      ],
      "metadata": {
        "id": "HDxDyGRj_LLh",
        "colab": {
          "base_uri": "https://localhost:8080/"
        },
        "outputId": "e93c1c2b-6866-4d0c-c9a6-53d3a8c2b699"
      },
      "execution_count": 188,
      "outputs": [
        {
          "output_type": "stream",
          "name": "stdout",
          "text": [
            "Hi Sarah your fav program is C!\n",
            "Hi Phil your fav program is Python!\n"
          ]
        }
      ]
    },
    {
      "cell_type": "code",
      "source": [
        "# Exercise 20 - print out the key-value pairs using not in function\n",
        "favorite_languages = {\n",
        "    'jen': 'python',\n",
        "    'sarah': 'c',\n",
        "    'edward': 'ruby',\n",
        "    'phil': 'python',\n",
        "    }\n",
        "\n",
        "if 'aishah' not in fav_prog.keys():\n",
        "    print('Aishah, please study hard!')\n",
        "\n",
        ""
      ],
      "metadata": {
        "id": "2SnKUKMEAA8t",
        "colab": {
          "base_uri": "https://localhost:8080/"
        },
        "outputId": "71801b8b-a1af-4e7e-f107-1807cdcbec25"
      },
      "execution_count": 190,
      "outputs": [
        {
          "output_type": "stream",
          "name": "stdout",
          "text": [
            "Aishah, please study hard!\n"
          ]
        }
      ]
    },
    {
      "cell_type": "code",
      "source": [
        "# Exercise 21 - Sort keys in order\n",
        "# Print out the message thanking them to take the poll\n",
        "favorite_languages = {\n",
        "    'jen': 'python',\n",
        "    'sarah': 'c',\n",
        "    'edward': 'ruby',\n",
        "    'phil': 'python',\n",
        "    }\n"
      ],
      "metadata": {
        "id": "6QBXlZM1Axk4"
      },
      "execution_count": null,
      "outputs": []
    },
    {
      "cell_type": "code",
      "source": [
        "# Exercise 22 - Sort values in order\n",
        "# remove redundant value using set() function\n",
        "favorite_languages = {\n",
        "    'jen': 'python',\n",
        "    'sarah': 'c',\n",
        "    'edward': 'ruby',\n",
        "    'phil': 'python',\n",
        "    }\n"
      ],
      "metadata": {
        "id": "CGqvlY1-BQ55"
      },
      "execution_count": null,
      "outputs": []
    },
    {
      "cell_type": "code",
      "source": [
        "range(30)\n"
      ],
      "metadata": {
        "colab": {
          "base_uri": "https://localhost:8080/"
        },
        "id": "w6F-kzmTwbbC",
        "outputId": "b28f9668-1991-4c7f-d8f3-c99ef10b577c"
      },
      "execution_count": null,
      "outputs": [
        {
          "output_type": "execute_result",
          "data": {
            "text/plain": [
              "range(0, 30)"
            ]
          },
          "metadata": {},
          "execution_count": 89
        }
      ]
    },
    {
      "cell_type": "code",
      "source": [
        "# Exercise 23 - append new data into dictionary using function\n",
        "# Make an empty list for storing aliens.\n",
        "aliens = []\n",
        "\n"
      ],
      "metadata": {
        "id": "CrP6r-jvBzht"
      },
      "execution_count": null,
      "outputs": []
    },
    {
      "cell_type": "code",
      "source": [
        "# Exercise 24 - A list in the dictionary\n",
        "# Store information about a pizza being ordered.\n",
        "pizza = {\n",
        "    'crust': 'thick',\n",
        "    'toppings': ['mushrooms', 'extra cheese'],\n",
        "    }\n",
        "\n",
        "# Summarize the order.\n"
      ],
      "metadata": {
        "id": "iA-z9NxRDixp"
      },
      "execution_count": null,
      "outputs": []
    },
    {
      "cell_type": "code",
      "source": [
        "# Exercise 25 - a list in the dictionary\n"
      ],
      "metadata": {
        "id": "q0MODSGDFsgU"
      },
      "execution_count": null,
      "outputs": []
    },
    {
      "cell_type": "code",
      "source": [
        "# Exercise 26 - A dictionary in a dictionary\n"
      ],
      "metadata": {
        "id": "wWibIDl0Gw2O"
      },
      "execution_count": null,
      "outputs": []
    },
    {
      "cell_type": "code",
      "source": [
        "# Exercise 27 - using input()\n"
      ],
      "metadata": {
        "id": "xY2CS0_CIEqr"
      },
      "execution_count": null,
      "outputs": []
    },
    {
      "cell_type": "code",
      "source": [
        "# Exercise 28 - using int() to accept numerical input: True of False\n"
      ],
      "metadata": {
        "id": "uWq2dvg3JR6c"
      },
      "execution_count": null,
      "outputs": []
    },
    {
      "cell_type": "code",
      "source": [
        "# Exercise 29 - using int()to accept numerical input and check for certain condition\n"
      ],
      "metadata": {
        "id": "XR0IMpnzK7Ne"
      },
      "execution_count": null,
      "outputs": []
    },
    {
      "cell_type": "code",
      "source": [
        "# Exercise 30 - The modulo operator to print message\n"
      ],
      "metadata": {
        "id": "x9OlZPDYL2ne"
      },
      "execution_count": null,
      "outputs": []
    }
  ]
}